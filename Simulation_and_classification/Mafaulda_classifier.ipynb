{
 "cells": [
  {
   "cell_type": "code",
   "execution_count": 1,
   "id": "4a1df766-7b82-447b-8ac0-4c335a757c5b",
   "metadata": {},
   "outputs": [],
   "source": [
    "from sklearn.model_selection import train_test_split\n",
    "from sklearn.preprocessing import PolynomialFeatures\n",
    "from scipy import fftpack, signal \n",
    "import matplotlib.pyplot as plt\n",
    "import numpy as np\n",
    "import pandas as pd\n",
    "import seaborn as sns\n",
    "import tensorflow as tf\n",
    "import cv2\n",
    "import os\n",
    "\n",
    "from tensorflow import keras\n",
    "from tensorflow.keras import layers\n",
    "from tensorflow.keras.models import load_model"
   ]
  },
  {
   "cell_type": "code",
   "execution_count": 2,
   "id": "4458b8de-1a9b-447e-8fbc-2b284378bd4f",
   "metadata": {
    "tags": []
   },
   "outputs": [],
   "source": [
    "def get_data(path=\"\"):\n",
    "    data_ls = os.listdir(path)\n",
    "    data_set = []\n",
    "    for data in range(len(data_ls)):\n",
    "        try:\n",
    "            ds = pd.read_csv(path + \"/\" + data_ls[data], header=None)\n",
    "            ds = ds.rename(columns={0: 'Tachometer', 1: 'UA axial', 2: 'UA radial', 3: 'UA tangential', 4: 'OA axial', 5: 'OA radial', 6: 'OA tangential', 7: 'Microphone'})\n",
    "            data_set.append(ds)\n",
    "        except:\n",
    "            pass\n",
    "    return data_set\n",
    "\n",
    "\n",
    "def get_means(data_set):\n",
    "    means = []\n",
    "    for i in range(len(data_set)):\n",
    "        mean = data_set[i].mean(axis = 0)\n",
    "        means.append(mean)\n",
    "    \n",
    "    means = pd.DataFrame(means)\n",
    "    return means\n",
    "\n",
    "def get_stds(data_set):\n",
    "    stds = []\n",
    "    for i in range(len(data_set)):\n",
    "        std = data_set[i].std(axis = 0)\n",
    "        stds.append(std)\n",
    "    \n",
    "    stds = pd.DataFrame(stds)    \n",
    "    return stds\n",
    "\n",
    "\n",
    "def plot_all_features(data_set):\n",
    "    plt.figure(figsize=(20, 15))\n",
    "\n",
    "    #Tachometer works with ttl signal\n",
    "    plt.subplot(4, 2, 1)\n",
    "    plt.plot(data_set[\"Tachometer\"], color=\"blue\")\n",
    "    plt.title(\"Tachometer graph\")\n",
    "    plt.ylabel('V')\n",
    "\n",
    "    #All acelerometers works with 10.2 mV/(m/s²) sensitivity \n",
    "    plt.subplot(4, 2, 2)\n",
    "    plt.plot(data_set[\"UA axial\"], color='green')\n",
    "    plt.title(\"Underhang axial graph\")\n",
    "    plt.ylabel('mV')\n",
    "\n",
    "    plt.subplot(4, 2, 3)\n",
    "    plt.plot(data_set[\"UA radial\"], color=\"black\")\n",
    "    plt.title(\"Underhang radial graph\")\n",
    "    plt.ylabel('mV')\n",
    "\n",
    "    plt.subplot(4, 2, 4)\n",
    "    plt.plot(data_set[\"UA tangential\"], color='orange')\n",
    "    plt.title(\"Underhang tangential graph\")\n",
    "    plt.ylabel('mV')\n",
    "\n",
    "    plt.subplot(4, 2, 5)\n",
    "    plt.plot(data_set[\"OA axial\"], color=\"pink\")\n",
    "    plt.title(\"Overhang axial graph\")\n",
    "    plt.ylabel('mV')\n",
    "\n",
    "    plt.subplot(4, 2, 6)\n",
    "    plt.plot(data_set[\"OA radial\"], color='yellow')\n",
    "    plt.title(\"Overhang radial graph\")\n",
    "    plt.ylabel('mV')\n",
    "\n",
    "    plt.subplot(4, 2, 7)\n",
    "    plt.plot(data_set[\"OA tangential\"], color=\"brown\")\n",
    "    plt.title(\"Overhang tangential graph\")\n",
    "    plt.xlabel('experiments')\n",
    "    plt.ylabel('mV')\n",
    "\n",
    "    #Microphone works with dB\n",
    "    plt.subplot(4, 2, 8)\n",
    "    plt.plot(data_set[\"Microphone\"], color='gray')\n",
    "    plt.title(\"Microphone graph\")\n",
    "    plt.xlabel('experiments')\n",
    "    plt.ylabel('DB')\n",
    "\n",
    "\n",
    "def down_sampler(data_set, initial_sample, sample_interval):\n",
    "    first_sample = initial_sample\n",
    "    final_sample = sample_interval\n",
    "    data_decreased = []\n",
    "    \n",
    "    for i in range(len(data_set)):\n",
    "        first_sample = initial_sample\n",
    "        final_sample = sample_interval\n",
    "        \n",
    "        for j in range(int(len(data_set[0])/sample_interval)):\n",
    "            data = data_set[i][first_sample:final_sample].mean()\n",
    "            data_decreased.append(data)\n",
    "        \n",
    "            first_sample = first_sample + sample_interval\n",
    "            final_sample = final_sample + sample_interval\n",
    "            \n",
    "    data_decreased = pd.DataFrame(data_decreased)  \n",
    "    return data_decreased\n",
    "\n",
    "#numpy also has fft but scipy is most efficient\n",
    "#https://docs.scipy.org/doc/scipy/reference/generated/scipy.signal.fftconvolve.html\n",
    "def FFT(data_set):\n",
    "    autocorr = signal.fftconvolve(data_set, data_set[::-1], mode='full')\n",
    "    autocorr = pd.DataFrame(autocorr)\n",
    "    return autocorr\n",
    "\n",
    "def rolling_rows(data, roll):\n",
    "    data = np.array(data)\n",
    "    roll_data = []\n",
    "    \n",
    "    for i in range(len(data)):\n",
    "        roll_data.append(data[i-roll])\n",
    "\n",
    "    return pd.DataFrame(roll_data)"
   ]
  },
  {
   "cell_type": "markdown",
   "id": "72af6f5f-9f91-4afb-899e-dc3a430b8a08",
   "metadata": {
    "tags": []
   },
   "source": [
    "# Getting Data"
   ]
  },
  {
   "cell_type": "code",
   "execution_count": 3,
   "id": "171706c7-1c3e-4c42-b995-441f1a6fbac1",
   "metadata": {},
   "outputs": [],
   "source": [
    "normal_data = get_data(\"data/normal\")"
   ]
  },
  {
   "cell_type": "code",
   "execution_count": null,
   "id": "f0a90ef4-ada5-44b9-9e18-75c6762a0041",
   "metadata": {},
   "outputs": [],
   "source": [
    "imbalance_6 = get_data(\"data/imbalance/6g\")\n",
    "imbalance_10 = get_data(\"data/imbalance/10g\")\n",
    "imbalance_15 = get_data(\"data/imbalance/15g\")\n",
    "imbalance_20 = get_data(\"data/imbalance/20g\")\n",
    "imbalance_25 = get_data(\"data/imbalance/25g\")\n",
    "imbalance_30 = get_data(\"data/imbalance/30g\")\n",
    "imbalance_35 = get_data(\"data/imbalance/35g\")\n",
    "\n",
    "imbalance_keys = [\"imbalance_6\", \"imbalance_10\", \"imbalance_15\", \"imbalance_20\", \"imbalance_25\", \"imbalance_30\", \"imbalance_35\"]\n",
    "imbalance_data = {\"imbalance_6\": imbalance_6,\n",
    "                  \"imbalance_10\": imbalance_10,\n",
    "                  \"imbalance_15\": imbalance_15, \n",
    "                  \"imbalance_20\": imbalance_20, \n",
    "                  \"imbalance_25\": imbalance_25, \n",
    "                  \"imbalance_30\": imbalance_30, \n",
    "                  \"imbalance_35\": imbalance_35}"
   ]
  },
  {
   "cell_type": "code",
   "execution_count": null,
   "id": "3cd396fb-1aa7-4382-9b0d-e9b05940d27d",
   "metadata": {},
   "outputs": [],
   "source": [
    "horizontal_data_0_5mm =  get_data(\"data/horizontal-misalignment/0.5mm\")\n",
    "horizontal_data_1_0mm =  get_data(\"data/horizontal-misalignment/1.0mm\")\n",
    "horizontal_data_1_5mm =  get_data(\"data/horizontal-misalignment/1.5mm\")\n",
    "horizontal_data_2_0mm =  get_data(\"data/horizontal-misalignment/2.0mm\")\n",
    "\n",
    "horizontal_keys = [\"horizontal_data_0_5mm\", \"horizontal_data_1_0mm\", \"horizontal_data_1_5mm\", \"horizontal_data_2_0mm\"]\n",
    "horizontal_data = {\"horizontal_data_0_5mm\": horizontal_data_0_5mm,\n",
    "                   \"horizontal_data_1_0mm\": horizontal_data_1_0mm,\n",
    "                   \"horizontal_data_1_5mm\": horizontal_data_1_5mm,\n",
    "                   \"horizontal_data_2_0mm\": horizontal_data_2_0mm}"
   ]
  },
  {
   "cell_type": "code",
   "execution_count": null,
   "id": "005738ba-0f7c-46a3-822e-7bf2a43e710a",
   "metadata": {},
   "outputs": [],
   "source": [
    "vertical_data_0_51 = get_data(\"data/vertical-misalignment/0.51mm\")\n",
    "vertical_data_0_63 = get_data(\"data/vertical-misalignment/0.63mm\")\n",
    "vertical_data_1_27 = get_data(\"data/vertical-misalignment/1.27mm\")\n",
    "vertical_data_1_40 = get_data(\"data/vertical-misalignment/1.40mm\")\n",
    "vertical_data_1_78 = get_data(\"data/vertical-misalignment/1.78mm\")\n",
    "vertical_data_1_90 = get_data(\"data/vertical-misalignment/1.90mm\")\n",
    "\n",
    "vertical_keys = [\"vertical_data_0_51\", \"vertical_data_0_63\", \"vertical_data_1_27\", \"vertical_data_1_40\", \"vertical_data_1_78\", \"vertical_data_1_90\"]\n",
    "vertical_data = {\"vertical_data_0_51\": vertical_data_0_51,\n",
    "                 \"vertical_data_0_63\": vertical_data_0_63,\n",
    "                 \"vertical_data_1_27\": vertical_data_1_27,\n",
    "                 \"vertical_data_1_40\": vertical_data_1_40,\n",
    "                 \"vertical_data_1_78\": vertical_data_1_78,\n",
    "                 \"vertical_data_1_90\": vertical_data_1_90}"
   ]
  },
  {
   "cell_type": "code",
   "execution_count": null,
   "id": "e55aa32b-054c-4aa7-ab14-0218ced31815",
   "metadata": {
    "tags": []
   },
   "outputs": [],
   "source": [
    "overhang_data_ball_0g = get_data(\"data/overhang/ball_fault/0g\")\n",
    "overhang_data_ball_6g = get_data(\"data/overhang/ball_fault/6g\")\n",
    "overhang_data_ball_20g = get_data(\"data/overhang/ball_fault/20g\")\n",
    "overhang_data_ball_35g = get_data(\"data/overhang/ball_fault/35g\")\n",
    "\n",
    "overhang_data_cage_0g = get_data(\"data/overhang/ball_fault/0g\")\n",
    "overhang_data_cage_6g = get_data(\"data/overhang/ball_fault/6g\")\n",
    "overhang_data_cage_20g = get_data(\"data/overhang/ball_fault/20g\")\n",
    "overhang_data_cage_35g = get_data(\"data/overhang/ball_fault/35g\")\n",
    "\n",
    "overhang_data_outerRace_0g = get_data(\"data/overhang/ball_fault/0g\")\n",
    "overhang_data_outerRace_6g = get_data(\"data/overhang/ball_fault/6g\")\n",
    "overhang_data_outerRace_20g = get_data(\"data/overhang/ball_fault/20g\")\n",
    "overhang_data_outerRace_35g = get_data(\"data/overhang/ball_fault/35g\")\n",
    "\n",
    "\n",
    "overhang_keys = [\"overhang_data_ball_0g\", \"overhang_data_ball_6g\", \"overhang_data_ball_20g\", \"overhang_data_ball_35g\", \"overhang_data_cage_0g\", \"overhang_data_cage_6g\", \"overhang_data_cage_20g\", \"overhang_data_cage_35g\", \"overhang_data_outerRace_0g\", \"overhang_data_outerRace_6g\", \"overhang_data_outerRace_20g\", \"overhang_data_outerRace_35g\"]\n",
    "overhang_data = {\"overhang_data_ball_0g\": overhang_data_ball_0g, \n",
    "                \"overhang_data_ball_6g\": overhang_data_ball_6g, \n",
    "                \"overhang_data_ball_20g\": overhang_data_ball_20g, \n",
    "                \"overhang_data_ball_35g\": overhang_data_ball_35g, \n",
    "                \"overhang_data_cage_0g\": overhang_data_cage_0g, \n",
    "                \"overhang_data_cage_6g\": overhang_data_cage_6g, \n",
    "                \"overhang_data_cage_20g\": overhang_data_cage_20g, \n",
    "                \"overhang_data_cage_35g\": overhang_data_cage_35g, \n",
    "                \"overhang_data_outerRace_0g\": overhang_data_outerRace_0g, \n",
    "                \"overhang_data_outerRace_6g\": overhang_data_outerRace_6g, \n",
    "                \"overhang_data_outerRace_20g\": overhang_data_outerRace_20g, \n",
    "                \"overhang_data_outerRace_35g\": overhang_data_outerRace_35g}"
   ]
  },
  {
   "cell_type": "code",
   "execution_count": null,
   "id": "a84cab15-00e6-4680-b70a-30415a01e77e",
   "metadata": {
    "tags": []
   },
   "outputs": [],
   "source": [
    "underhang_data_ball_0g = get_data(\"data/underhang/ball_fault/0g\")\n",
    "underhang_data_ball_6g = get_data(\"data/underhang/ball_fault/6g\")\n",
    "underhang_data_ball_20g = get_data(\"data/underhang/ball_fault/20g\")\n",
    "underhang_data_ball_35g = get_data(\"data/underhang/ball_fault/35g\")\n",
    "\n",
    "underhang_data_cage_0g = get_data(\"data/underhang/ball_fault/0g\")\n",
    "underhang_data_cage_6g = get_data(\"data/underhang/ball_fault/6g\")\n",
    "underhang_data_cage_20g = get_data(\"data/underhang/ball_fault/20g\")\n",
    "underhang_data_cage_35g = get_data(\"data/underhang/ball_fault/35g\")\n",
    "\n",
    "underhang_data_outerRace_0g = get_data(\"data/underhang/ball_fault/0g\")\n",
    "underhang_data_outerRace_6g = get_data(\"data/underhang/ball_fault/6g\")\n",
    "underhang_data_outerRace_20g = get_data(\"data/underhang/ball_fault/20g\")\n",
    "underhang_data_outerRace_35g = get_data(\"data/underhang/ball_fault/35g\")\n",
    "\n",
    "\n",
    "underhang_keys = [\"underhang_data_ball_0g\", \"underhang_data_ball_6g\", \"underhang_data_ball_20g\", \"underhang_data_ball_35g\", \"underhang_data_cage_0g\", \"underhang_data_cage_6g\", \"underhang_data_cage_20g\", \"underhang_data_cage_35g\", \"underhang_data_outerRace_0g\", \"underhang_data_outerRace_6g\", \"underhang_data_outerRace_20g\", \"underhang_data_outerRace_35g\"]\n",
    "underhang_data = {\"underhang_data_ball_0g\": underhang_data_ball_0g, \n",
    "                  \"underhang_data_ball_6g\": underhang_data_ball_6g, \n",
    "                  \"underhang_data_ball_20g\": underhang_data_ball_20g, \n",
    "                  \"underhang_data_ball_35g\": underhang_data_ball_35g, \n",
    "                  \"underhang_data_cage_0g\": underhang_data_cage_0g, \n",
    "                  \"underhang_data_cage_6g\": underhang_data_cage_6g, \n",
    "                  \"underhang_data_cage_20g\": underhang_data_cage_20g, \n",
    "                  \"underhang_data_cage_35g\": underhang_data_cage_35g, \n",
    "                  \"underhang_data_outerRace_0g\": underhang_data_outerRace_0g, \n",
    "                  \"underhang_data_outerRace_6g\": underhang_data_outerRace_6g, \n",
    "                  \"underhang_data_outerRace_20g\": underhang_data_outerRace_20g, \n",
    "                  \"underhang_data_outerRace_35g\" :underhang_data_outerRace_35g}"
   ]
  },
  {
   "cell_type": "code",
   "execution_count": null,
   "id": "d5a8ed5c-73b7-4ea0-8180-e769d1487489",
   "metadata": {},
   "outputs": [],
   "source": []
  },
  {
   "cell_type": "code",
   "execution_count": null,
   "id": "8b37f7f8-babf-4a15-b382-e2aecab8c290",
   "metadata": {},
   "outputs": [],
   "source": [
    "#shapes\n",
    "\n",
    "print(\"Normal data\")\n",
    "print(len(normal_data))\n",
    "print(\"--------------------------\")\n",
    "\n",
    "print(\"Imbalance data\")\n",
    "for i in range(len(imbalance_keys)):\n",
    "    print(i, len(imbalance_data[imbalance_keys[i]]))    \n",
    "print(\"--------------------------\")\n",
    "\n",
    "print(\"Horizontal data\")\n",
    "for i in range(len(horizontal_keys)):\n",
    "    print(i, len(horizontal_data[horizontal_keys[i]]))\n",
    "print(\"--------------------------\")\n",
    "\n",
    "print(\"Vertical data\")\n",
    "for i in range(len(vertical_keys)):\n",
    "    print(i, len(vertical_data[vertical_keys[i]]))\n",
    "print(\"--------------------------\")\n",
    "\n",
    "print(\"Overhang data\")\n",
    "for i in range(len(overhang_keys)):\n",
    "    print(i, len(overhang_data[overhang_keys[i]]))\n",
    "print(\"--------------------------\")\n",
    "\n",
    "print(\"Underhang data\")\n",
    "for i in range(len(underhang_keys)):\n",
    "    print(i, len(underhang_data[underhang_keys[i]]))\n",
    "print(\"--------------------------\")"
   ]
  },
  {
   "cell_type": "markdown",
   "id": "dfa842ad-7c3f-444d-b581-65d03e69686a",
   "metadata": {
    "tags": []
   },
   "source": [
    "# Reducing Data"
   ]
  },
  {
   "cell_type": "code",
   "execution_count": null,
   "id": "20f8c147-bc82-45a9-b4ce-01f29b446bc0",
   "metadata": {},
   "outputs": [],
   "source": [
    "normal_data = down_sampler(normal_data, 0, 5000)"
   ]
  },
  {
   "cell_type": "code",
   "execution_count": null,
   "id": "acbb5f36-49ac-4d95-910b-8a2e5755c278",
   "metadata": {},
   "outputs": [],
   "source": [
    "for i in range(len(imbalance_keys)):\n",
    "    imbalance_data[imbalance_keys[i]] = down_sampler(imbalance_data[imbalance_keys[i]], 0, 5000)"
   ]
  },
  {
   "cell_type": "code",
   "execution_count": null,
   "id": "baf2cb82-cbeb-4b68-a94f-39dadfebbb6c",
   "metadata": {},
   "outputs": [],
   "source": [
    "for i in range(len(horizontal_keys)):\n",
    "    horizontal_data[horizontal_keys[i]] = down_sampler(horizontal_data[horizontal_keys[i]], 0, 5000)"
   ]
  },
  {
   "cell_type": "code",
   "execution_count": null,
   "id": "88657a4a-9fdc-4708-814f-2be8a0817add",
   "metadata": {},
   "outputs": [],
   "source": [
    "for i in range(len(vertical_keys)):\n",
    "    vertical_data[vertical_keys[i]] = down_sampler(vertical_data[vertical_keys[i]], 0, 5000)"
   ]
  },
  {
   "cell_type": "code",
   "execution_count": null,
   "id": "fa47c678-6620-48b5-99c1-2019c91f3ddf",
   "metadata": {},
   "outputs": [],
   "source": [
    "for i in range(len(overhang_keys)):\n",
    "    overhang_data[overhang_keys[i]] = down_sampler(overhang_data[overhang_keys[i]], 0, 5000)"
   ]
  },
  {
   "cell_type": "code",
   "execution_count": null,
   "id": "263d6ccb-930d-48ac-976c-27f72ef23983",
   "metadata": {},
   "outputs": [],
   "source": [
    "for i in range(len(underhang_keys)):\n",
    "    underhang_data[underhang_keys[i]] = down_sampler(underhang_data[underhang_keys[i]], 0, 5000)"
   ]
  },
  {
   "cell_type": "code",
   "execution_count": null,
   "id": "603031b0-2344-4c0d-abbf-077d1d7de63d",
   "metadata": {},
   "outputs": [],
   "source": [
    "imbalance_data[imbalance_keys[0]]"
   ]
  },
  {
   "cell_type": "code",
   "execution_count": null,
   "id": "6ef56474-3890-40ee-9fcd-cc1e07838d2d",
   "metadata": {},
   "outputs": [],
   "source": [
    "#Saving reduced data to use in Mafaulda_app\n",
    "\n",
    "normal_data.to_csv('Mafaulda_app/reduced_data/reduced_normal_data.csv',index=False)\n",
    "\n",
    "for i in range(len(imbalance_data)):\n",
    "    path = 'Mafaulda_app/reduced_data/reduced_' + imbalance_keys[i] + '.csv'\n",
    "    imbalance_data[imbalance_keys[i]].to_csv(path ,index=False)\n",
    "\n",
    "for i in range(len(horizontal_data)):\n",
    "    path = 'Mafaulda_app/reduced_data/reduced_' + horizontal_keys[i] + '.csv'\n",
    "    horizontal_data[horizontal_keys[i]].to_csv(path ,index=False)\n",
    "    \n",
    "for i in range(len(vertical_data)):\n",
    "    path = 'Mafaulda_app/reduced_data/reduced_' + vertical_keys[i] + '.csv'\n",
    "    vertical_data[vertical_keys[i]].to_csv(path ,index=False)\n",
    "    \n",
    "for i in range(len(overhang_data)):\n",
    "    path = 'Mafaulda_app/reduced_data/reduced_' + overhang_keys[i] + '.csv'\n",
    "    overhang_data[overhang_keys[i]].to_csv(path ,index=False)\n",
    "    \n",
    "for i in range(len(underhang_data)):\n",
    "    path = 'Mafaulda_app/reduced_data/reduced_' + underhang_keys[i] + '.csv'\n",
    "    underhang_data[underhang_keys[i]].to_csv(path ,index=False)"
   ]
  },
  {
   "cell_type": "code",
   "execution_count": null,
   "id": "ed4bf501-873a-46e3-8f66-35cb4a8c98ed",
   "metadata": {},
   "outputs": [],
   "source": [
    "plot_all_features(underhang_data[underhang_keys[10]])"
   ]
  },
  {
   "cell_type": "code",
   "execution_count": null,
   "id": "e6ecf3d1-010e-45f3-ae3f-e3928d236c3f",
   "metadata": {},
   "outputs": [],
   "source": []
  },
  {
   "cell_type": "markdown",
   "id": "4d8eebd0-18f8-4c60-9734-4163745416f7",
   "metadata": {
    "tags": []
   },
   "source": [
    "# Classify Fault Type"
   ]
  },
  {
   "cell_type": "code",
   "execution_count": 19,
   "id": "d100f518-4a0a-440f-b012-c6be3316f6a6",
   "metadata": {},
   "outputs": [],
   "source": [
    "# applying FFT and normalizing data\n",
    "\n",
    "imbalance_shape = len(normal_data) / 7\n",
    "horizontal_shape = len(normal_data) / 4 \n",
    "vertical_shape = len(normal_data) / 6\n",
    "overhang_shape = len(normal_data) / 12\n",
    "underhang_shape = len(normal_data) / 12\n",
    "\n",
    "normal_data_n = FFT(normal_data)\n",
    "\n",
    "imbalance_6_n = FFT(imbalance_data[imbalance_keys[0]][:int(imbalance_shape)])\n",
    "imbalance_10_n = FFT(imbalance_data[imbalance_keys[1]][int(imbalance_shape):2*int(imbalance_shape)])\n",
    "imbalance_15_n = FFT(imbalance_data[imbalance_keys[2]][2*int(imbalance_shape):3*int(imbalance_shape)])\n",
    "imbalance_20_n = FFT(imbalance_data[imbalance_keys[3]][3*int(imbalance_shape):4*int(imbalance_shape)])\n",
    "imbalance_25_n = FFT(imbalance_data[imbalance_keys[4]][4*int(imbalance_shape):5*int(imbalance_shape)])\n",
    "imbalance_30_n = FFT(imbalance_data[imbalance_keys[5]][5*int(imbalance_shape):6*int(imbalance_shape)])\n",
    "imbalance_35_n = FFT(imbalance_data[imbalance_keys[6]][6*int(imbalance_shape):7*int(imbalance_shape)])\n",
    "\n",
    "horizontal_data_0_5mm_n = FFT(horizontal_data[horizontal_keys[0]][:int(horizontal_shape)])\n",
    "horizontal_data_1_0mm_n = FFT(horizontal_data[horizontal_keys[1]][int(horizontal_shape):2*int(horizontal_shape)])\n",
    "horizontal_data_1_5mm_n = FFT(horizontal_data[horizontal_keys[2]][2*int(horizontal_shape):3*int(horizontal_shape)])\n",
    "horizontal_data_2_0mm_n = FFT(horizontal_data[horizontal_keys[3]][3*int(horizontal_shape):4*int(horizontal_shape)])\n",
    "\n",
    "vertical_data_0_51_n = FFT(vertical_data[vertical_keys[0]][:int(vertical_shape)])\n",
    "vertical_data_0_63_n = FFT(vertical_data[vertical_keys[1]][int(vertical_shape):2*int(vertical_shape)])\n",
    "vertical_data_1_27_n = FFT(vertical_data[vertical_keys[2]][2*int(vertical_shape):3*int(vertical_shape)])\n",
    "vertical_data_1_40_n = FFT(vertical_data[vertical_keys[3]][3*int(vertical_shape):4*int(vertical_shape)])\n",
    "vertical_data_1_78_n = FFT(vertical_data[vertical_keys[4]][4*int(vertical_shape):5*int(vertical_shape)])\n",
    "vertical_data_1_90_n = FFT(vertical_data[vertical_keys[5]][5*int(vertical_shape):6*int(vertical_shape)])\n",
    "\n",
    "overhang_data_ball_0g_n = FFT(overhang_data[overhang_keys[0]][:int(overhang_shape)])\n",
    "overhang_data_ball_6g_n = FFT(overhang_data[overhang_keys[1]][int(overhang_shape):2*int(overhang_shape)])\n",
    "overhang_data_ball_20g_n = FFT(overhang_data[overhang_keys[2]][2*int(overhang_shape):3*int(overhang_shape)])\n",
    "overhang_data_ball_35g_n = FFT(overhang_data[overhang_keys[3]][3*int(overhang_shape):4*int(overhang_shape)])\n",
    "overhang_data_cage_0g_n = FFT(overhang_data[overhang_keys[4]][4*int(overhang_shape):5*int(overhang_shape)])\n",
    "overhang_data_cage_6g_n = FFT(overhang_data[overhang_keys[5]][5*int(overhang_shape):6*int(overhang_shape)])\n",
    "overhang_data_cage_20g_n = FFT(overhang_data[overhang_keys[6]][6*int(overhang_shape):7*int(overhang_shape)])\n",
    "overhang_data_cage_35g_n = FFT(overhang_data[overhang_keys[7]][7*int(overhang_shape):8*int(overhang_shape)])\n",
    "overhang_data_outerRace_0g_n = FFT(overhang_data[overhang_keys[8]][8*int(overhang_shape):9*int(overhang_shape)])\n",
    "overhang_data_outerRace_6g_n = FFT(overhang_data[overhang_keys[9]][9*int(overhang_shape):10*int(overhang_shape)])\n",
    "overhang_data_outerRace_20g_n = FFT(overhang_data[overhang_keys[10]][10*int(overhang_shape):11*int(overhang_shape)])\n",
    "overhang_data_outerRace_35g_n = FFT(overhang_data[overhang_keys[11]][11*int(overhang_shape):12*int(overhang_shape)])\n",
    "\n",
    "underhang_data_ball_0g_n = FFT(underhang_data[underhang_keys[0]][:int(underhang_shape)])\n",
    "underhang_data_ball_6g_n = FFT(underhang_data[underhang_keys[1]][int(underhang_shape):2*int(underhang_shape)])\n",
    "underhang_data_ball_20g_n = FFT(underhang_data[underhang_keys[2]][2*int(underhang_shape):3*int(underhang_shape)])\n",
    "underhang_data_ball_35g_n = FFT(underhang_data[underhang_keys[3]][3*int(underhang_shape):4*int(underhang_shape)])\n",
    "underhang_data_cage_0g_n = FFT(underhang_data[underhang_keys[4]][4*int(underhang_shape):5*int(underhang_shape)])\n",
    "underhang_data_cage_6g_n = FFT(underhang_data[underhang_keys[5]][5*int(underhang_shape):6*int(underhang_shape)])\n",
    "underhang_data_cage_20g_n = FFT(underhang_data[underhang_keys[6]][6*int(underhang_shape):7*int(underhang_shape)])\n",
    "underhang_data_cage_35g_n = FFT(underhang_data[underhang_keys[7]][7*int(underhang_shape):8*int(underhang_shape)])\n",
    "underhang_data_outerRace_0g_n = FFT(underhang_data[underhang_keys[8]][8*int(underhang_shape):9*int(underhang_shape)])\n",
    "underhang_data_outerRace_6g_n = FFT(underhang_data[underhang_keys[9]][9*int(underhang_shape):10*int(underhang_shape)])\n",
    "underhang_data_outerRace_20g_n = FFT(underhang_data[underhang_keys[10]][10*int(underhang_shape):11*int(underhang_shape)])\n",
    "underhang_data_outerRace_35g_n = FFT(underhang_data[underhang_keys[11]][11*int(underhang_shape):12*int(underhang_shape)])\n",
    "\n",
    "\n",
    "\n",
    "imbalance_data_n = pd.concat([imbalance_6_n, imbalance_10_n, imbalance_15_n, imbalance_20_n, imbalance_25_n, imbalance_30_n, imbalance_35_n], ignore_index=True)\n",
    "horizontal_data_n = pd.concat([horizontal_data_0_5mm_n, horizontal_data_1_0mm_n, horizontal_data_1_5mm_n, horizontal_data_2_0mm_n], ignore_index=True)\n",
    "vertical_data_n = pd.concat([vertical_data_0_51_n, vertical_data_0_63_n, vertical_data_1_27_n, vertical_data_1_40_n, vertical_data_1_78_n, vertical_data_1_90_n], ignore_index=True)\n",
    "overhang_data_n = pd.concat([overhang_data_ball_0g_n, overhang_data_ball_6g_n, overhang_data_ball_20g_n, overhang_data_ball_35g_n, overhang_data_cage_0g_n, overhang_data_cage_6g_n, overhang_data_cage_20g_n, overhang_data_cage_35g_n, overhang_data_outerRace_0g_n, overhang_data_outerRace_6g_n, overhang_data_outerRace_20g_n, overhang_data_outerRace_35g_n], ignore_index=True)\n",
    "underhang_data_n = pd.concat([underhang_data_ball_0g_n, underhang_data_ball_6g_n, underhang_data_ball_20g_n, underhang_data_ball_35g_n, underhang_data_cage_0g_n, underhang_data_cage_6g_n, underhang_data_cage_20g_n, underhang_data_cage_35g_n, underhang_data_outerRace_0g_n, underhang_data_outerRace_6g_n, underhang_data_outerRace_20g_n, underhang_data_outerRace_35g_n], ignore_index=True)"
   ]
  },
  {
   "cell_type": "code",
   "execution_count": 22,
   "id": "bf697ee9-cde4-4aa8-a909-2839fa9ff65e",
   "metadata": {},
   "outputs": [],
   "source": [
    "normal_data_n.to_csv(\"Mafaulda_app/reduced_data/reduced_data_n.csv\" ,index=False)\n",
    "imbalance_data_n.to_csv(\"Mafaulda_app/reduced_data/reduced_imbalance_data_n.csv\" ,index=False)\n",
    "horizontal_data_n.to_csv(\"Mafaulda_app/reduced_data/reduced_horizontal_data_n.csv\" ,index=False)\n",
    "vertical_data_n.to_csv(\"Mafaulda_app/reduced_data/reduced_vertical_data_n.csv\" ,index=False)\n",
    "overhang_data_n.to_csv(\"Mafaulda_app/reduced_data/reduced_overhang_data_n.csv\" ,index=False)\n",
    "underhang_data_n.to_csv(\"Mafaulda_app/reduced_data/reduced_underhang_data_n.csv\" ,index=False)"
   ]
  },
  {
   "cell_type": "code",
   "execution_count": 19,
   "id": "a59c22f9-ed8f-4304-b181-9bcd7f47c21f",
   "metadata": {},
   "outputs": [],
   "source": [
    "# normal_data_n\n",
    "# imbalance_data_n\n",
    "# horizontal_n\n",
    "# vertical_data_n\n",
    "# overhang_data_n\n",
    "# underhang_data_n"
   ]
  },
  {
   "cell_type": "code",
   "execution_count": 23,
   "id": "96cf7275-d07b-4ad9-a24d-d37834d418e1",
   "metadata": {},
   "outputs": [
    {
     "data": {
      "text/html": [
       "<div>\n",
       "<style scoped>\n",
       "    .dataframe tbody tr th:only-of-type {\n",
       "        vertical-align: middle;\n",
       "    }\n",
       "\n",
       "    .dataframe tbody tr th {\n",
       "        vertical-align: top;\n",
       "    }\n",
       "\n",
       "    .dataframe thead th {\n",
       "        text-align: right;\n",
       "    }\n",
       "</style>\n",
       "<table border=\"1\" class=\"dataframe\">\n",
       "  <thead>\n",
       "    <tr style=\"text-align: right;\">\n",
       "      <th></th>\n",
       "      <th>0</th>\n",
       "      <th>1</th>\n",
       "      <th>2</th>\n",
       "      <th>3</th>\n",
       "      <th>4</th>\n",
       "      <th>5</th>\n",
       "      <th>6</th>\n",
       "      <th>7</th>\n",
       "      <th>8</th>\n",
       "      <th>9</th>\n",
       "      <th>10</th>\n",
       "      <th>11</th>\n",
       "      <th>12</th>\n",
       "      <th>13</th>\n",
       "      <th>14</th>\n",
       "    </tr>\n",
       "  </thead>\n",
       "  <tbody>\n",
       "    <tr>\n",
       "      <th>0</th>\n",
       "      <td>-0.000983</td>\n",
       "      <td>-0.000394</td>\n",
       "      <td>-0.000462</td>\n",
       "      <td>-0.000130</td>\n",
       "      <td>-0.031095</td>\n",
       "      <td>-0.002707</td>\n",
       "      <td>-0.011456</td>\n",
       "      <td>0.001349</td>\n",
       "      <td>0.211282</td>\n",
       "      <td>0.040030</td>\n",
       "      <td>0.606781</td>\n",
       "      <td>0.041804</td>\n",
       "      <td>0.294650</td>\n",
       "      <td>0.012991</td>\n",
       "      <td>0.000143</td>\n",
       "    </tr>\n",
       "    <tr>\n",
       "      <th>1</th>\n",
       "      <td>-0.000204</td>\n",
       "      <td>-0.000241</td>\n",
       "      <td>0.000018</td>\n",
       "      <td>-0.000055</td>\n",
       "      <td>-0.107068</td>\n",
       "      <td>0.003149</td>\n",
       "      <td>-0.101306</td>\n",
       "      <td>0.000850</td>\n",
       "      <td>0.291999</td>\n",
       "      <td>0.058014</td>\n",
       "      <td>0.247082</td>\n",
       "      <td>0.062128</td>\n",
       "      <td>0.098447</td>\n",
       "      <td>0.016532</td>\n",
       "      <td>0.000297</td>\n",
       "    </tr>\n",
       "    <tr>\n",
       "      <th>2</th>\n",
       "      <td>0.007892</td>\n",
       "      <td>0.000677</td>\n",
       "      <td>0.001447</td>\n",
       "      <td>-0.000123</td>\n",
       "      <td>-0.088640</td>\n",
       "      <td>0.001892</td>\n",
       "      <td>-0.112204</td>\n",
       "      <td>-0.008599</td>\n",
       "      <td>0.036063</td>\n",
       "      <td>0.013018</td>\n",
       "      <td>-1.011155</td>\n",
       "      <td>0.033442</td>\n",
       "      <td>-0.644437</td>\n",
       "      <td>0.008699</td>\n",
       "      <td>0.000456</td>\n",
       "    </tr>\n",
       "    <tr>\n",
       "      <th>3</th>\n",
       "      <td>0.008661</td>\n",
       "      <td>0.001586</td>\n",
       "      <td>0.000171</td>\n",
       "      <td>0.000126</td>\n",
       "      <td>0.032657</td>\n",
       "      <td>0.003640</td>\n",
       "      <td>0.079681</td>\n",
       "      <td>-0.007618</td>\n",
       "      <td>-0.501086</td>\n",
       "      <td>-0.085520</td>\n",
       "      <td>-2.134151</td>\n",
       "      <td>-0.049425</td>\n",
       "      <td>-1.320960</td>\n",
       "      <td>-0.010317</td>\n",
       "      <td>0.000597</td>\n",
       "    </tr>\n",
       "    <tr>\n",
       "      <th>4</th>\n",
       "      <td>-0.001524</td>\n",
       "      <td>0.002180</td>\n",
       "      <td>-0.000094</td>\n",
       "      <td>-0.000462</td>\n",
       "      <td>0.102618</td>\n",
       "      <td>-0.015845</td>\n",
       "      <td>0.171723</td>\n",
       "      <td>0.007179</td>\n",
       "      <td>-0.564611</td>\n",
       "      <td>-0.100138</td>\n",
       "      <td>-1.002434</td>\n",
       "      <td>-0.068172</td>\n",
       "      <td>-0.754281</td>\n",
       "      <td>-0.019373</td>\n",
       "      <td>0.000750</td>\n",
       "    </tr>\n",
       "    <tr>\n",
       "      <th>...</th>\n",
       "      <td>...</td>\n",
       "      <td>...</td>\n",
       "      <td>...</td>\n",
       "      <td>...</td>\n",
       "      <td>...</td>\n",
       "      <td>...</td>\n",
       "      <td>...</td>\n",
       "      <td>...</td>\n",
       "      <td>...</td>\n",
       "      <td>...</td>\n",
       "      <td>...</td>\n",
       "      <td>...</td>\n",
       "      <td>...</td>\n",
       "      <td>...</td>\n",
       "      <td>...</td>\n",
       "    </tr>\n",
       "    <tr>\n",
       "      <th>26953</th>\n",
       "      <td>0.043821</td>\n",
       "      <td>-0.003449</td>\n",
       "      <td>-0.004390</td>\n",
       "      <td>-0.001325</td>\n",
       "      <td>-0.047456</td>\n",
       "      <td>0.000257</td>\n",
       "      <td>0.010404</td>\n",
       "      <td>-0.006232</td>\n",
       "      <td>-0.014622</td>\n",
       "      <td>0.004038</td>\n",
       "      <td>-0.030808</td>\n",
       "      <td>0.008114</td>\n",
       "      <td>0.020261</td>\n",
       "      <td>0.000923</td>\n",
       "      <td>0.000612</td>\n",
       "    </tr>\n",
       "    <tr>\n",
       "      <th>26954</th>\n",
       "      <td>-0.038152</td>\n",
       "      <td>0.005287</td>\n",
       "      <td>0.008346</td>\n",
       "      <td>0.003588</td>\n",
       "      <td>0.039609</td>\n",
       "      <td>0.009638</td>\n",
       "      <td>-0.023125</td>\n",
       "      <td>0.005974</td>\n",
       "      <td>0.074408</td>\n",
       "      <td>0.009661</td>\n",
       "      <td>0.063392</td>\n",
       "      <td>0.003639</td>\n",
       "      <td>-0.009951</td>\n",
       "      <td>0.000322</td>\n",
       "      <td>0.000480</td>\n",
       "    </tr>\n",
       "    <tr>\n",
       "      <th>26955</th>\n",
       "      <td>0.010399</td>\n",
       "      <td>0.004104</td>\n",
       "      <td>-0.011007</td>\n",
       "      <td>-0.005634</td>\n",
       "      <td>0.015123</td>\n",
       "      <td>0.005387</td>\n",
       "      <td>-0.001204</td>\n",
       "      <td>-0.007803</td>\n",
       "      <td>-0.051487</td>\n",
       "      <td>-0.010554</td>\n",
       "      <td>-0.051689</td>\n",
       "      <td>0.003402</td>\n",
       "      <td>-0.009912</td>\n",
       "      <td>0.002651</td>\n",
       "      <td>0.000372</td>\n",
       "    </tr>\n",
       "    <tr>\n",
       "      <th>26956</th>\n",
       "      <td>0.010290</td>\n",
       "      <td>-0.001123</td>\n",
       "      <td>0.000850</td>\n",
       "      <td>-0.004180</td>\n",
       "      <td>-0.037674</td>\n",
       "      <td>-0.001086</td>\n",
       "      <td>-0.021248</td>\n",
       "      <td>0.001559</td>\n",
       "      <td>0.035289</td>\n",
       "      <td>0.004975</td>\n",
       "      <td>0.028362</td>\n",
       "      <td>0.002363</td>\n",
       "      <td>0.003339</td>\n",
       "      <td>-0.000618</td>\n",
       "      <td>0.000244</td>\n",
       "    </tr>\n",
       "    <tr>\n",
       "      <th>26957</th>\n",
       "      <td>-0.006882</td>\n",
       "      <td>-0.000819</td>\n",
       "      <td>-0.001244</td>\n",
       "      <td>0.000839</td>\n",
       "      <td>0.017921</td>\n",
       "      <td>0.002728</td>\n",
       "      <td>0.014151</td>\n",
       "      <td>-0.001477</td>\n",
       "      <td>-0.008009</td>\n",
       "      <td>-0.002934</td>\n",
       "      <td>-0.013220</td>\n",
       "      <td>-0.000210</td>\n",
       "      <td>-0.004733</td>\n",
       "      <td>0.000272</td>\n",
       "      <td>0.000134</td>\n",
       "    </tr>\n",
       "  </tbody>\n",
       "</table>\n",
       "<p>26958 rows × 15 columns</p>\n",
       "</div>"
      ],
      "text/plain": [
       "             0         1         2         3         4         5         6   \\\n",
       "0     -0.000983 -0.000394 -0.000462 -0.000130 -0.031095 -0.002707 -0.011456   \n",
       "1     -0.000204 -0.000241  0.000018 -0.000055 -0.107068  0.003149 -0.101306   \n",
       "2      0.007892  0.000677  0.001447 -0.000123 -0.088640  0.001892 -0.112204   \n",
       "3      0.008661  0.001586  0.000171  0.000126  0.032657  0.003640  0.079681   \n",
       "4     -0.001524  0.002180 -0.000094 -0.000462  0.102618 -0.015845  0.171723   \n",
       "...         ...       ...       ...       ...       ...       ...       ...   \n",
       "26953  0.043821 -0.003449 -0.004390 -0.001325 -0.047456  0.000257  0.010404   \n",
       "26954 -0.038152  0.005287  0.008346  0.003588  0.039609  0.009638 -0.023125   \n",
       "26955  0.010399  0.004104 -0.011007 -0.005634  0.015123  0.005387 -0.001204   \n",
       "26956  0.010290 -0.001123  0.000850 -0.004180 -0.037674 -0.001086 -0.021248   \n",
       "26957 -0.006882 -0.000819 -0.001244  0.000839  0.017921  0.002728  0.014151   \n",
       "\n",
       "             7         8         9         10        11        12        13  \\\n",
       "0      0.001349  0.211282  0.040030  0.606781  0.041804  0.294650  0.012991   \n",
       "1      0.000850  0.291999  0.058014  0.247082  0.062128  0.098447  0.016532   \n",
       "2     -0.008599  0.036063  0.013018 -1.011155  0.033442 -0.644437  0.008699   \n",
       "3     -0.007618 -0.501086 -0.085520 -2.134151 -0.049425 -1.320960 -0.010317   \n",
       "4      0.007179 -0.564611 -0.100138 -1.002434 -0.068172 -0.754281 -0.019373   \n",
       "...         ...       ...       ...       ...       ...       ...       ...   \n",
       "26953 -0.006232 -0.014622  0.004038 -0.030808  0.008114  0.020261  0.000923   \n",
       "26954  0.005974  0.074408  0.009661  0.063392  0.003639 -0.009951  0.000322   \n",
       "26955 -0.007803 -0.051487 -0.010554 -0.051689  0.003402 -0.009912  0.002651   \n",
       "26956  0.001559  0.035289  0.004975  0.028362  0.002363  0.003339 -0.000618   \n",
       "26957 -0.001477 -0.008009 -0.002934 -0.013220 -0.000210 -0.004733  0.000272   \n",
       "\n",
       "             14  \n",
       "0      0.000143  \n",
       "1      0.000297  \n",
       "2      0.000456  \n",
       "3      0.000597  \n",
       "4      0.000750  \n",
       "...         ...  \n",
       "26953  0.000612  \n",
       "26954  0.000480  \n",
       "26955  0.000372  \n",
       "26956  0.000244  \n",
       "26957  0.000134  \n",
       "\n",
       "[26958 rows x 15 columns]"
      ]
     },
     "execution_count": 23,
     "metadata": {},
     "output_type": "execute_result"
    }
   ],
   "source": [
    "data_fault = pd.concat([normal_data_n, imbalance_data_n, horizontal_data_n, vertical_data_n, overhang_data_n, underhang_data_n], ignore_index=True)\n",
    "data_fault"
   ]
  },
  {
   "cell_type": "code",
   "execution_count": 24,
   "id": "e6542edb-d724-4d77-b679-5f39624bd42f",
   "metadata": {},
   "outputs": [
    {
     "data": {
      "text/html": [
       "<div>\n",
       "<style scoped>\n",
       "    .dataframe tbody tr th:only-of-type {\n",
       "        vertical-align: middle;\n",
       "    }\n",
       "\n",
       "    .dataframe tbody tr th {\n",
       "        vertical-align: top;\n",
       "    }\n",
       "\n",
       "    .dataframe thead th {\n",
       "        text-align: right;\n",
       "    }\n",
       "</style>\n",
       "<table border=\"1\" class=\"dataframe\">\n",
       "  <thead>\n",
       "    <tr style=\"text-align: right;\">\n",
       "      <th></th>\n",
       "      <th>0</th>\n",
       "    </tr>\n",
       "  </thead>\n",
       "  <tbody>\n",
       "    <tr>\n",
       "      <th>0</th>\n",
       "      <td>0</td>\n",
       "    </tr>\n",
       "    <tr>\n",
       "      <th>1</th>\n",
       "      <td>0</td>\n",
       "    </tr>\n",
       "    <tr>\n",
       "      <th>2</th>\n",
       "      <td>0</td>\n",
       "    </tr>\n",
       "    <tr>\n",
       "      <th>3</th>\n",
       "      <td>0</td>\n",
       "    </tr>\n",
       "    <tr>\n",
       "      <th>4</th>\n",
       "      <td>0</td>\n",
       "    </tr>\n",
       "    <tr>\n",
       "      <th>...</th>\n",
       "      <td>...</td>\n",
       "    </tr>\n",
       "    <tr>\n",
       "      <th>26953</th>\n",
       "      <td>5</td>\n",
       "    </tr>\n",
       "    <tr>\n",
       "      <th>26954</th>\n",
       "      <td>5</td>\n",
       "    </tr>\n",
       "    <tr>\n",
       "      <th>26955</th>\n",
       "      <td>5</td>\n",
       "    </tr>\n",
       "    <tr>\n",
       "      <th>26956</th>\n",
       "      <td>5</td>\n",
       "    </tr>\n",
       "    <tr>\n",
       "      <th>26957</th>\n",
       "      <td>5</td>\n",
       "    </tr>\n",
       "  </tbody>\n",
       "</table>\n",
       "<p>26958 rows × 1 columns</p>\n",
       "</div>"
      ],
      "text/plain": [
       "       0\n",
       "0      0\n",
       "1      0\n",
       "2      0\n",
       "3      0\n",
       "4      0\n",
       "...   ..\n",
       "26953  5\n",
       "26954  5\n",
       "26955  5\n",
       "26956  5\n",
       "26957  5\n",
       "\n",
       "[26958 rows x 1 columns]"
      ]
     },
     "execution_count": 24,
     "metadata": {},
     "output_type": "execute_result"
    }
   ],
   "source": [
    "y_normal = pd.DataFrame(np.zeros(len(normal_data_n), dtype=int))\n",
    "y_imbalance = pd.DataFrame(np.ones(len(imbalance_data_n), dtype=int))\n",
    "y_horizontal_data = pd.DataFrame(np.full(len(horizontal_data_n), 2, dtype=int)) \n",
    "y_vertical_data = pd.DataFrame(np.full(len(vertical_data_n), 3, dtype=int))\n",
    "y_overhang_data = pd.DataFrame(np.full(len(overhang_data_n), 4, dtype=int))\n",
    "y_underhang_data = pd.DataFrame(np.full(len(underhang_data_n), 5, dtype=int))\n",
    "\n",
    "y_total = pd.concat([y_normal, y_imbalance, y_horizontal_data, y_vertical_data, y_overhang_data, y_underhang_data], ignore_index=True)\n",
    "y_total"
   ]
  },
  {
   "cell_type": "code",
   "execution_count": 25,
   "id": "51f035d5-c541-4cc7-be2d-ea70f6d14468",
   "metadata": {},
   "outputs": [],
   "source": [
    "X_train_fault, X_test_fault, y_train_fault, y_test_fault = train_test_split(data_fault, y_total, test_size=0.25, shuffle=True)"
   ]
  },
  {
   "cell_type": "code",
   "execution_count": 27,
   "id": "6fe4c3f7-4121-4085-ad8c-145b8571db02",
   "metadata": {},
   "outputs": [],
   "source": [
    "fault_model = tf.keras.models.Sequential([\n",
    "    tf.keras.layers.Conv1D(64, 2, activation=\"relu\", input_shape=(15,1)),\n",
    "    tf.keras.layers.Flatten(), \n",
    "    tf.keras.layers.Dense(128, activation=tf.nn.relu), \n",
    "    tf.keras.layers.Dense(64, activation=tf.nn.relu),\n",
    "    tf.keras.layers.Dense(32, activation=tf.nn.relu),\n",
    "    tf.keras.layers.Dense(16, activation=tf.nn.relu),\n",
    "    tf.keras.layers.Dense(6, activation=tf.nn.softmax)])"
   ]
  },
  {
   "cell_type": "code",
   "execution_count": 28,
   "id": "7bce509a-0df9-4100-8b79-84ae235c0539",
   "metadata": {},
   "outputs": [],
   "source": [
    "fault_model.compile(optimizer = tf.keras.optimizers.Adam(),\n",
    "              loss = 'sparse_categorical_crossentropy',\n",
    "              metrics=['accuracy'])"
   ]
  },
  {
   "cell_type": "code",
   "execution_count": 29,
   "id": "02518687-32a3-4c94-90ba-be0e36efd500",
   "metadata": {},
   "outputs": [
    {
     "name": "stdout",
     "output_type": "stream",
     "text": [
      "Epoch 1/5\n"
     ]
    },
    {
     "name": "stderr",
     "output_type": "stream",
     "text": [
      "2022-10-12 20:35:49.200725: I tensorflow/stream_executor/cuda/cuda_dnn.cc:366] Loaded cuDNN version 8100\n"
     ]
    },
    {
     "name": "stdout",
     "output_type": "stream",
     "text": [
      "632/632 [==============================] - 5s 5ms/step - loss: 0.9125 - accuracy: 0.6602\n",
      "Epoch 2/5\n",
      "632/632 [==============================] - 3s 5ms/step - loss: 0.5978 - accuracy: 0.7781\n",
      "Epoch 3/5\n",
      "632/632 [==============================] - 3s 5ms/step - loss: 0.4877 - accuracy: 0.8171\n",
      "Epoch 4/5\n",
      "632/632 [==============================] - 3s 5ms/step - loss: 0.4372 - accuracy: 0.8414\n",
      "Epoch 5/5\n",
      "632/632 [==============================] - 3s 5ms/step - loss: 0.3904 - accuracy: 0.8558\n"
     ]
    },
    {
     "data": {
      "text/plain": [
       "<keras.callbacks.History at 0x7f36e5aae280>"
      ]
     },
     "execution_count": 29,
     "metadata": {},
     "output_type": "execute_result"
    }
   ],
   "source": [
    "#The accuracy decreases because the model could assume 0 to hard inputs classification. Balanced data become classification harder\n",
    "fault_model.fit(X_train_fault, y_train_fault, epochs=5)"
   ]
  },
  {
   "cell_type": "code",
   "execution_count": 30,
   "id": "fdcb17b1-cd0d-4356-b3c5-076db8fed8ec",
   "metadata": {},
   "outputs": [],
   "source": [
    "def classify_fault(x, y, index):\n",
    "    responses = {0:'normal', 1:'imbalance', 2:'horizontal', 3:'vertical', 4:'overhang', 5:'underhang'}\n",
    "    predicts = fault_model.predict(x)\n",
    "    predict = responses[np.argmax(predicts[index], axis=0)]\n",
    "    \n",
    "    real_status = responses[int(y[0][index:index+1])]\n",
    "    \n",
    "    print(\"Status predicted: \" + predict)\n",
    "    print(\"Real Status: \" + real_status)\n",
    "    \n",
    "def classify_fault_dois(x, y, index):\n",
    "    responses = {0:'normal', 1:'imbalance', 2:'horizontal', 3:'vertical', 4:'overhang', 5:'underhang'}\n",
    "    predicts = fault_model.predict(x)\n",
    "    predict = responses[np.argmax(predicts, axis=0)]\n",
    "    \n",
    "    real_status = responses[int(y[0][index:index+1])]\n",
    "    \n",
    "    print(\"Status predicted: \" + predict)\n",
    "    print(\"Real Status: \" + real_status)"
   ]
  },
  {
   "cell_type": "code",
   "execution_count": 31,
   "id": "86af3f10-e0c4-447b-8d7d-7b9bddbf3d54",
   "metadata": {},
   "outputs": [
    {
     "name": "stdout",
     "output_type": "stream",
     "text": [
      "Status predicted: normal\n",
      "Real Status: normal\n"
     ]
    }
   ],
   "source": [
    "classify_fault(X_test_fault, y_test_fault, 50)"
   ]
  },
  {
   "cell_type": "code",
   "execution_count": 28,
   "id": "3c2bf131-82d9-4b57-a376-fda9dbf65f16",
   "metadata": {},
   "outputs": [
    {
     "name": "stdout",
     "output_type": "stream",
     "text": [
      "Status predicted: imbalance\n",
      "Real Status: imbalance\n"
     ]
    }
   ],
   "source": [
    "classify_fault(imbalance_6_n, y_test_fault, 5)"
   ]
  },
  {
   "cell_type": "code",
   "execution_count": 32,
   "id": "8115f453-0841-4376-bc80-7fb4cfafb7ff",
   "metadata": {},
   "outputs": [],
   "source": [
    "fault_model.save('Mafaulda_app/models/fault_model.h5')"
   ]
  },
  {
   "cell_type": "markdown",
   "id": "08e80303-c0ba-46b4-be1a-4456d81932f3",
   "metadata": {
    "tags": []
   },
   "source": [
    "# Classify Imbalance"
   ]
  },
  {
   "cell_type": "code",
   "execution_count": 37,
   "id": "a2b925c4-6b13-421e-b5e4-f2579e47b3e0",
   "metadata": {},
   "outputs": [],
   "source": [
    "imbalance_6_FFT = FFT(imbalance_data[imbalance_keys[0]])\n",
    "imbalance_10_FFT = FFT(imbalance_data[imbalance_keys[1]])\n",
    "imbalance_15_FFT = FFT(imbalance_data[imbalance_keys[2]])\n",
    "imbalance_20_FFT = FFT(imbalance_data[imbalance_keys[3]])\n",
    "imbalance_25_FFT = FFT(imbalance_data[imbalance_keys[4]])\n",
    "imbalance_30_FFT = FFT(imbalance_data[imbalance_keys[5]])\n",
    "imbalance_35_FFT = FFT(imbalance_data[imbalance_keys[6]])\n",
    "\n",
    "data_imbalance_FFT = pd.concat([imbalance_6_FFT, imbalance_10_FFT, imbalance_15_FFT, imbalance_20_FFT, imbalance_25_FFT, imbalance_30_FFT, imbalance_35_FFT], ignore_index=True)"
   ]
  },
  {
   "cell_type": "code",
   "execution_count": null,
   "id": "26a84a8b-c40e-414a-bbcd-d9c14cc4005b",
   "metadata": {},
   "outputs": [],
   "source": [
    "y_imbalance_6 = pd.DataFrame(np.zeros(len(imbalance_6_FFT), dtype=int))\n",
    "y_imbalance_10 = pd.DataFrame(np.ones(len(imbalance_10_FFT), dtype=int))\n",
    "y_imbalance_15 = pd.DataFrame(np.full(len(imbalance_15_FFT), 2, dtype=int)) \n",
    "y_imbalance_20 = pd.DataFrame(np.full(len(imbalance_20_FFT), 3, dtype=int))\n",
    "y_imbalance_25 = pd.DataFrame(np.full(len(imbalance_25_FFT), 4, dtype=int))\n",
    "y_imbalance_30 = pd.DataFrame(np.full(len(imbalance_30_FFT), 5, dtype=int))\n",
    "y_imbalance_35 = pd.DataFrame(np.full(len(imbalance_35_FFT), 5, dtype=int))\n",
    "\n",
    "y_imbalance = pd.concat([y_imbalance_6, y_imbalance_10, y_imbalance_15, y_imbalance_20, y_imbalance_25, y_imbalance_30, y_imbalance_35], ignore_index=True)"
   ]
  },
  {
   "cell_type": "code",
   "execution_count": null,
   "id": "eef48c23-ffc0-4e37-9b95-3ef663656efb",
   "metadata": {},
   "outputs": [],
   "source": [
    "X_train_imbalance, X_test_imbalance, y_train_imbalance, y_test_imbalance = train_test_split(data_imbalance_FFT, y_imbalance, test_size=0.25, shuffle=True)"
   ]
  },
  {
   "cell_type": "code",
   "execution_count": null,
   "id": "5616bb2a-ace2-49bb-840b-a718cc1ffce4",
   "metadata": {},
   "outputs": [],
   "source": [
    "imbalance_model = tf.keras.models.Sequential([\n",
    "    tf.keras.layers.Conv1D(64, 2, activation=\"relu\", input_shape=(15,1)),\n",
    "    tf.keras.layers.Flatten(), \n",
    "    tf.keras.layers.Dense(128, activation=tf.nn.relu), \n",
    "    tf.keras.layers.Dense(64, activation=tf.nn.relu),\n",
    "    tf.keras.layers.Dense(32, activation=tf.nn.relu),\n",
    "    tf.keras.layers.Dense(16, activation=tf.nn.relu),\n",
    "    tf.keras.layers.Dense(6, activation=tf.nn.softmax)])"
   ]
  },
  {
   "cell_type": "code",
   "execution_count": null,
   "id": "7ffc3170-ab49-4545-af56-395eae9fd2f4",
   "metadata": {},
   "outputs": [],
   "source": [
    "imbalance_model.compile(optimizer = tf.keras.optimizers.Adam(),\n",
    "              loss = 'sparse_categorical_crossentropy',\n",
    "              metrics=['accuracy'])"
   ]
  },
  {
   "cell_type": "code",
   "execution_count": null,
   "id": "031815cd-44d9-4042-8780-a3774840aadc",
   "metadata": {},
   "outputs": [],
   "source": [
    "#The accuracy decreases because the model could assume 0 to hard inputs classification. Balanced data become classification harder\n",
    "imbalance_model.fit(X_train_imabalance, y_train_imabalance, epochs=5)"
   ]
  },
  {
   "cell_type": "code",
   "execution_count": null,
   "id": "4467a764-012a-4ffe-8eee-852bc0485a4f",
   "metadata": {},
   "outputs": [],
   "source": [
    "imbalance_model.save('Mafaulda_app/models/imbalance_model.h5')"
   ]
  },
  {
   "cell_type": "markdown",
   "id": "9dbb6901-827e-4178-8733-636a250223b0",
   "metadata": {
    "jp-MarkdownHeadingCollapsed": true,
    "tags": []
   },
   "source": [
    "# NEW Classify Imbalance"
   ]
  },
  {
   "cell_type": "code",
   "execution_count": 39,
   "id": "a15189dd-bae8-42c3-816f-c6ea6fa229b2",
   "metadata": {},
   "outputs": [],
   "source": [
    "def genenerate_data(data_reduced, roll):\n",
    "    data_generated = FFT(data_reduced)\n",
    "    for i in range (12):\n",
    "        data = rolling_rows(imbalance_data[imbalance_keys[0]], roll)\n",
    "        data_generated = pd.concat([data_generated, FFT(data)], ignore_index = True)\n",
    "        \n",
    "    return data_generated"
   ]
  },
  {
   "cell_type": "code",
   "execution_count": 42,
   "id": "547b6381-ad13-4f8c-8454-a8616984164b",
   "metadata": {},
   "outputs": [],
   "source": [
    "imbalance_6_FFT = genenerate_data(imbalance_data[imbalance_keys[0]], 200)\n",
    "imbalance_10_FFT = genenerate_data(imbalance_data[imbalance_keys[1]], 200)\n",
    "imbalance_15_FFT = genenerate_data(imbalance_data[imbalance_keys[2]], 200)\n",
    "imbalance_20_FFT = genenerate_data(imbalance_data[imbalance_keys[3]], 200)\n",
    "imbalance_25_FFT = genenerate_data(imbalance_data[imbalance_keys[4]], 200)\n",
    "imbalance_30_FFT = genenerate_data(imbalance_data[imbalance_keys[5]], 200)\n",
    "imbalance_35_FFT = genenerate_data(imbalance_data[imbalance_keys[6]], 200)\n",
    "\n",
    "data_imbalance_FFT = pd.concat([imbalance_6_FFT, imbalance_10_FFT, imbalance_15_FFT, imbalance_20_FFT, imbalance_25_FFT, imbalance_30_FFT, imbalance_35_FFT], ignore_index=True)"
   ]
  },
  {
   "cell_type": "code",
   "execution_count": 43,
   "id": "abee2e0f-84a7-4b5b-9f26-e1b91a6bc1b7",
   "metadata": {},
   "outputs": [],
   "source": [
    "y_imbalance_6 = pd.DataFrame(np.zeros(len(imbalance_6_FFT), dtype=int))\n",
    "y_imbalance_10 = pd.DataFrame(np.ones(len(imbalance_10_FFT), dtype=int))\n",
    "y_imbalance_15 = pd.DataFrame(np.full(len(imbalance_15_FFT), 2, dtype=int)) \n",
    "y_imbalance_20 = pd.DataFrame(np.full(len(imbalance_20_FFT), 3, dtype=int))\n",
    "y_imbalance_25 = pd.DataFrame(np.full(len(imbalance_25_FFT), 4, dtype=int))\n",
    "y_imbalance_30 = pd.DataFrame(np.full(len(imbalance_30_FFT), 5, dtype=int))\n",
    "y_imbalance_35 = pd.DataFrame(np.full(len(imbalance_35_FFT), 5, dtype=int))\n",
    "\n",
    "y_imbalance = pd.concat([y_imbalance_6, y_imbalance_10, y_imbalance_15, y_imbalance_20, y_imbalance_25, y_imbalance_30, y_imbalance_35], ignore_index=True)"
   ]
  },
  {
   "cell_type": "code",
   "execution_count": 52,
   "id": "48124db5-5e28-41ca-bb2c-e3f1355a9454",
   "metadata": {},
   "outputs": [],
   "source": [
    "X_train_imbalance, X_test_imbalance, y_train_imbalance, y_test_imbalance = train_test_split(data_imbalance_FFT, y_imbalance, test_size=0.25, shuffle=False)"
   ]
  },
  {
   "cell_type": "code",
   "execution_count": 54,
   "id": "3d814fd4-7ab2-4e21-bc32-85d80a74941a",
   "metadata": {},
   "outputs": [
    {
     "data": {
      "image/png": "[encoded data removed]",
      "text/plain": [
       "<Figure size 432x288 with 1 Axes>"
      ]
     },
     "metadata": {
      "needs_background": "light"
     },
     "output_type": "display_data"
    }
   ],
   "source": [
    "\n"
   ]
  },
  {
   "cell_type": "code",
   "execution_count": 59,
   "id": "c04bcfc0-2e4a-4d3f-ae4a-88e11d23c1f7",
   "metadata": {},
   "outputs": [],
   "source": [
    "imbalance_model = tf.keras.models.Sequential([\n",
    "    tf.keras.layers.Conv2D(64, (3,3), activation=\"relu\", input_shape=(15,15,1)),\n",
    "    tf.keras.layers.Flatten(), \n",
    "    tf.keras.layers.Dense(128, activation=tf.nn.relu), \n",
    "    tf.keras.layers.Dense(64, activation=tf.nn.relu),\n",
    "    tf.keras.layers.Dense(32, activation=tf.nn.relu),\n",
    "    tf.keras.layers.Dense(16, activation=tf.nn.relu),\n",
    "    tf.keras.layers.Dense(6, activation=tf.nn.softmax)])"
   ]
  },
  {
   "cell_type": "code",
   "execution_count": 60,
   "id": "b100c76d-ac21-4c15-8dd3-c528e021b30d",
   "metadata": {},
   "outputs": [],
   "source": [
    "imbalance_model.compile(optimizer = tf.keras.optimizers.Adam(),\n",
    "              loss = 'sparse_categorical_crossentropy',\n",
    "              metrics=['accuracy'])"
   ]
  },
  {
   "cell_type": "code",
   "execution_count": 61,
   "id": "cf9967f9-962d-4055-9c5c-515220a602ef",
   "metadata": {},
   "outputs": [
    {
     "name": "stdout",
     "output_type": "stream",
     "text": [
      "Epoch 1/5\n",
      "WARNING:tensorflow:Model was constructed with shape (None, 15, 15, 1) for input KerasTensor(type_spec=TensorSpec(shape=(None, 15, 15, 1), dtype=tf.float32, name='conv2d_4_input'), name='conv2d_4_input', description=\"created by layer 'conv2d_4_input'\"), but it was called on an input with incompatible shape (None, 15).\n"
     ]
    },
    {
     "name": "stderr",
     "output_type": "stream",
     "text": [
      "2022-10-12 15:50:04.011995: W tensorflow/core/framework/cpu_allocator_impl.cc:82] Allocation of 40032720 exceeds 10% of free system memory.\n",
      "2022-10-12 15:50:04.028715: W tensorflow/core/framework/cpu_allocator_impl.cc:82] Allocation of 40032720 exceeds 10% of free system memory.\n"
     ]
    },
    {
     "ename": "ValueError",
     "evalue": "in user code:\n\n    File \"/usr/local/lib/python3.8/dist-packages/keras/engine/training.py\", line 878, in train_function  *\n        return step_function(self, iterator)\n    File \"/usr/local/lib/python3.8/dist-packages/keras/engine/training.py\", line 867, in step_function  **\n        outputs = model.distribute_strategy.run(run_step, args=(data,))\n    File \"/usr/local/lib/python3.8/dist-packages/keras/engine/training.py\", line 860, in run_step  **\n        outputs = model.train_step(data)\n    File \"/usr/local/lib/python3.8/dist-packages/keras/engine/training.py\", line 808, in train_step\n        y_pred = self(x, training=True)\n    File \"/usr/local/lib/python3.8/dist-packages/keras/utils/traceback_utils.py\", line 67, in error_handler\n        raise e.with_traceback(filtered_tb) from None\n    File \"/usr/local/lib/python3.8/dist-packages/keras/engine/input_spec.py\", line 227, in assert_input_compatibility\n        raise ValueError(f'Input {input_index} of layer \"{layer_name}\" '\n\n    ValueError: Exception encountered when calling layer \"sequential_6\" (type Sequential).\n    \n    Input 0 of layer \"conv2d_4\" is incompatible with the layer: expected min_ndim=4, found ndim=2. Full shape received: (None, 15)\n    \n    Call arguments received:\n      • inputs=tf.Tensor(shape=(None, 15), dtype=float64)\n      • training=True\n      • mask=None\n",
     "output_type": "error",
     "traceback": [
      "\u001b[0;31m---------------------------------------------------------------------------\u001b[0m",
      "\u001b[0;31mValueError\u001b[0m                                Traceback (most recent call last)",
      "Input \u001b[0;32mIn [61]\u001b[0m, in \u001b[0;36m<cell line: 2>\u001b[0;34m()\u001b[0m\n\u001b[1;32m      1\u001b[0m \u001b[38;5;66;03m#The accuracy decreases because the model could assume 0 to hard inputs classification. Balanced data become classification harder\u001b[39;00m\n\u001b[0;32m----> 2\u001b[0m \u001b[43mimbalance_model\u001b[49m\u001b[38;5;241;43m.\u001b[39;49m\u001b[43mfit\u001b[49m\u001b[43m(\u001b[49m\u001b[43mX_train_imbalance\u001b[49m\u001b[43m,\u001b[49m\u001b[43m \u001b[49m\u001b[43my_train_imbalance\u001b[49m\u001b[43m,\u001b[49m\u001b[43m \u001b[49m\u001b[43mepochs\u001b[49m\u001b[38;5;241;43m=\u001b[39;49m\u001b[38;5;241;43m5\u001b[39;49m\u001b[43m)\u001b[49m\n",
      "File \u001b[0;32m/usr/local/lib/python3.8/dist-packages/keras/utils/traceback_utils.py:67\u001b[0m, in \u001b[0;36mfilter_traceback.<locals>.error_handler\u001b[0;34m(*args, **kwargs)\u001b[0m\n\u001b[1;32m     65\u001b[0m \u001b[38;5;28;01mexcept\u001b[39;00m \u001b[38;5;167;01mException\u001b[39;00m \u001b[38;5;28;01mas\u001b[39;00m e:  \u001b[38;5;66;03m# pylint: disable=broad-except\u001b[39;00m\n\u001b[1;32m     66\u001b[0m   filtered_tb \u001b[38;5;241m=\u001b[39m _process_traceback_frames(e\u001b[38;5;241m.\u001b[39m__traceback__)\n\u001b[0;32m---> 67\u001b[0m   \u001b[38;5;28;01mraise\u001b[39;00m e\u001b[38;5;241m.\u001b[39mwith_traceback(filtered_tb) \u001b[38;5;28;01mfrom\u001b[39;00m \u001b[38;5;28mNone\u001b[39m\n\u001b[1;32m     68\u001b[0m \u001b[38;5;28;01mfinally\u001b[39;00m:\n\u001b[1;32m     69\u001b[0m   \u001b[38;5;28;01mdel\u001b[39;00m filtered_tb\n",
      "File \u001b[0;32m/usr/local/lib/python3.8/dist-packages/tensorflow/python/framework/func_graph.py:1129\u001b[0m, in \u001b[0;36mfunc_graph_from_py_func.<locals>.autograph_handler\u001b[0;34m(*args, **kwargs)\u001b[0m\n\u001b[1;32m   1127\u001b[0m \u001b[38;5;28;01mexcept\u001b[39;00m \u001b[38;5;167;01mException\u001b[39;00m \u001b[38;5;28;01mas\u001b[39;00m e:  \u001b[38;5;66;03m# pylint:disable=broad-except\u001b[39;00m\n\u001b[1;32m   1128\u001b[0m   \u001b[38;5;28;01mif\u001b[39;00m \u001b[38;5;28mhasattr\u001b[39m(e, \u001b[38;5;124m\"\u001b[39m\u001b[38;5;124mag_error_metadata\u001b[39m\u001b[38;5;124m\"\u001b[39m):\n\u001b[0;32m-> 1129\u001b[0m     \u001b[38;5;28;01mraise\u001b[39;00m e\u001b[38;5;241m.\u001b[39mag_error_metadata\u001b[38;5;241m.\u001b[39mto_exception(e)\n\u001b[1;32m   1130\u001b[0m   \u001b[38;5;28;01melse\u001b[39;00m:\n\u001b[1;32m   1131\u001b[0m     \u001b[38;5;28;01mraise\u001b[39;00m\n",
      "\u001b[0;31mValueError\u001b[0m: in user code:\n\n    File \"/usr/local/lib/python3.8/dist-packages/keras/engine/training.py\", line 878, in train_function  *\n        return step_function(self, iterator)\n    File \"/usr/local/lib/python3.8/dist-packages/keras/engine/training.py\", line 867, in step_function  **\n        outputs = model.distribute_strategy.run(run_step, args=(data,))\n    File \"/usr/local/lib/python3.8/dist-packages/keras/engine/training.py\", line 860, in run_step  **\n        outputs = model.train_step(data)\n    File \"/usr/local/lib/python3.8/dist-packages/keras/engine/training.py\", line 808, in train_step\n        y_pred = self(x, training=True)\n    File \"/usr/local/lib/python3.8/dist-packages/keras/utils/traceback_utils.py\", line 67, in error_handler\n        raise e.with_traceback(filtered_tb) from None\n    File \"/usr/local/lib/python3.8/dist-packages/keras/engine/input_spec.py\", line 227, in assert_input_compatibility\n        raise ValueError(f'Input {input_index} of layer \"{layer_name}\" '\n\n    ValueError: Exception encountered when calling layer \"sequential_6\" (type Sequential).\n    \n    Input 0 of layer \"conv2d_4\" is incompatible with the layer: expected min_ndim=4, found ndim=2. Full shape received: (None, 15)\n    \n    Call arguments received:\n      • inputs=tf.Tensor(shape=(None, 15), dtype=float64)\n      • training=True\n      • mask=None\n"
     ]
    }
   ],
   "source": [
    "#The accuracy decreases because the model could assume 0 to hard inputs classification. Balanced data become classification harder\n",
    "imbalance_model.fit(X_train_imbalance, y_train_imbalance, epochs=5)"
   ]
  },
  {
   "cell_type": "code",
   "execution_count": null,
   "id": "e41ea7a0-aeec-47a9-aa75-4333cc247834",
   "metadata": {},
   "outputs": [],
   "source": []
  },
  {
   "cell_type": "markdown",
   "id": "5b2d8f2d-58c6-4e2a-a8ae-0b50b7f48ef8",
   "metadata": {
    "tags": []
   },
   "source": [
    "# Classify Horizontal Misalignment"
   ]
  },
  {
   "cell_type": "code",
   "execution_count": null,
   "id": "8e1bb27a-ab22-4236-b88f-451287d93cec",
   "metadata": {},
   "outputs": [],
   "source": [
    "horizontal_data_0_5mm_FFT = FFT(horizontal_data[horizontal_keys[0]])\n",
    "horizontal_data_1_0mm_FFT = FFT(horizontal_data[horizontal_keys[1]])\n",
    "horizontal_data_1_5mm_FFT = FFT(horizontal_data[horizontal_keys[2]])\n",
    "horizontal_data_2_0mm_FFT = FFT(horizontal_data[horizontal_keys[3]])\n",
    "\n",
    "horizontal_data_FFT = pd.concat([horizontal_data_0_5mm_FFT, horizontal_data_1_0mm_FFT, horizontal_data_1_5mm_FFT, horizontal_data_2_0mm_FFT], ignore_index=True )"
   ]
  },
  {
   "cell_type": "code",
   "execution_count": null,
   "id": "4b560aaa-bda7-4cf1-9968-52bcc169f16e",
   "metadata": {},
   "outputs": [],
   "source": [
    "y_horizontal_data_0_5mm = pd.DataFrame(np.zeros(len(horizontal_data_0_5mm_FFT), dtype=int))\n",
    "y_horizontal_data_1_0mm = pd.DataFrame(np.ones(len(horizontal_data_1_0mm_FFT), dtype=int))\n",
    "y_horizontal_data_1_5mm = pd.DataFrame(np.full(len(horizontal_data_1_5mm_FFT), 2, dtype=int))\n",
    "y_horizontal_data_2_0mm = pd.DataFrame(np.full(len(horizontal_data_2_0mm_FFT), 3, dtype=int))\n",
    "\n",
    "y_horizontal = pd.concat([y_horizontal_data_0_5mm, y_horizontal_data_1_0mm, y_horizontal_data_1_5mm, y_horizontal_data_2_0mm], ignore_index=True)"
   ]
  },
  {
   "cell_type": "code",
   "execution_count": null,
   "id": "92f0742a-799f-496d-a1a6-4369f755c740",
   "metadata": {},
   "outputs": [],
   "source": [
    "X_train_horizontal, X_test_horizontal, y_train_horizontal, y_test_horizontal = train_test_split(horizontal_data_FFT, y_horizontal, test_size=0.25, shuffle=True)"
   ]
  },
  {
   "cell_type": "code",
   "execution_count": null,
   "id": "d58d2d57-8e7a-45f7-a1e5-febfcc7187b8",
   "metadata": {},
   "outputs": [],
   "source": [
    "horizontal_model = tf.keras.models.Sequential([\n",
    "    tf.keras.layers.Conv1D(64, 2, activation=\"relu\", input_shape=(15,1)),\n",
    "    tf.keras.layers.Flatten(), \n",
    "    tf.keras.layers.Dense(128, activation=tf.nn.relu), \n",
    "    tf.keras.layers.Dense(64, activation=tf.nn.relu),\n",
    "    tf.keras.layers.Dense(32, activation=tf.nn.relu),\n",
    "    tf.keras.layers.Dense(16, activation=tf.nn.relu),\n",
    "    tf.keras.layers.Dense(6, activation=tf.nn.softmax)])"
   ]
  },
  {
   "cell_type": "code",
   "execution_count": null,
   "id": "97ef2aa1-4bd3-460d-8e45-38d8740388f6",
   "metadata": {},
   "outputs": [],
   "source": [
    "horizontal_model.compile(optimizer = tf.keras.optimizers.Adam(),\n",
    "              loss = 'sparse_categorical_crossentropy',\n",
    "              metrics=['accuracy'])"
   ]
  },
  {
   "cell_type": "code",
   "execution_count": null,
   "id": "d4aaf8f8-7e4b-4e1e-8cfc-efe5f3555a14",
   "metadata": {},
   "outputs": [],
   "source": [
    "#The accuracy decreases because the model could assume 0 to hard inputs classification. Balanced data become classification harder\n",
    "horizontal_model.fit(X_train_horizontal, y_train_horizontal, epochs=5)"
   ]
  },
  {
   "cell_type": "code",
   "execution_count": null,
   "id": "0019b874-d9b3-4b44-aacf-657998c8e97a",
   "metadata": {},
   "outputs": [],
   "source": [
    "horizontal_model.save('Mafaulda_app/models/horizontal_model.h5')"
   ]
  },
  {
   "cell_type": "markdown",
   "id": "2777bc81-32c8-4744-a52b-f492af0cec42",
   "metadata": {
    "tags": []
   },
   "source": [
    "# Classify Vertical Misalignment"
   ]
  },
  {
   "cell_type": "code",
   "execution_count": null,
   "id": "c0e9b9ee-4ec4-48c8-83cf-967e3193a349",
   "metadata": {},
   "outputs": [],
   "source": [
    "vertical_data_0_51_FFT = FFT(vertical_data[vertical_keys[0]])\n",
    "vertical_data_0_63_FFT = FFT(vertical_data[vertical_keys[1]])\n",
    "vertical_data_1_27_FFT = FFT(vertical_data[vertical_keys[2]])\n",
    "vertical_data_1_40_FFT = FFT(vertical_data[vertical_keys[3]])\n",
    "vertical_data_1_78_FFT = FFT(vertical_data[vertical_keys[4]])\n",
    "vertical_data_1_90_FFT = FFT(vertical_data[vertical_keys[5]])\n",
    "\n",
    "vertical_data_FFT = pd.concat([vertical_data_0_51_FFT, vertical_data_0_63_FFT, vertical_data_1_27_FFT, vertical_data_1_40_FFT, vertical_data_1_78_FFT, vertical_data_1_90_FFT], ignore_index=True)"
   ]
  },
  {
   "cell_type": "code",
   "execution_count": null,
   "id": "724820d7-3c10-48bd-ae3a-d0afd654fc91",
   "metadata": {},
   "outputs": [],
   "source": [
    "y_vertical_data_0_51 = pd.DataFrame(np.zeros(len(vertical_data_0_51_FFT), dtype=int))\n",
    "y_vertical_data_0_63 = pd.DataFrame(np.ones(len(vertical_data_0_63_FFT), dtype=int))\n",
    "y_vertical_data_1_27 = pd.DataFrame(np.full(len(vertical_data_1_27_FFT), 2, dtype=int))\n",
    "y_vertical_data_1_40 = pd.DataFrame(np.full(len(vertical_data_1_40_FFT), 3, dtype=int))\n",
    "y_vertical_data_1_78 = pd.DataFrame(np.full(len(vertical_data_1_40_FFT), 4, dtype=int))\n",
    "y_vertical_data_1_90 = pd.DataFrame(np.full(len(vertical_data_1_40_FFT), 5, dtype=int))\n",
    "\n",
    "y_vertical = pd.concat([y_vertical_data_0_51, y_vertical_data_0_63, y_vertical_data_1_27, y_vertical_data_1_40, y_vertical_data_1_78, y_vertical_data_1_90], ignore_index=True)"
   ]
  },
  {
   "cell_type": "code",
   "execution_count": null,
   "id": "def975ad-956c-4a1d-b12d-7f30e8f61e23",
   "metadata": {},
   "outputs": [],
   "source": [
    "X_train_vertical, X_test_vertical, y_train_vertical, y_test_vertical = train_test_split(vertical_data_FFT, y_vertical, test_size=0.25, shuffle=True)"
   ]
  },
  {
   "cell_type": "code",
   "execution_count": null,
   "id": "11095714-c6fa-431b-ad76-a362edd722a2",
   "metadata": {},
   "outputs": [],
   "source": [
    "vertical_model = tf.keras.models.Sequential([\n",
    "    tf.keras.layers.Conv1D(64, 2, activation=\"relu\", input_shape=(15,1)),\n",
    "    tf.keras.layers.Flatten(), \n",
    "    tf.keras.layers.Dense(128, activation=tf.nn.relu), \n",
    "    tf.keras.layers.Dense(64, activation=tf.nn.relu),\n",
    "    tf.keras.layers.Dense(32, activation=tf.nn.relu),\n",
    "    tf.keras.layers.Dense(16, activation=tf.nn.relu),\n",
    "    tf.keras.layers.Dense(6, activation=tf.nn.softmax)])"
   ]
  },
  {
   "cell_type": "code",
   "execution_count": null,
   "id": "400d8fea-d918-449b-9828-334840fd55b8",
   "metadata": {},
   "outputs": [],
   "source": [
    "vertical_model.compile(optimizer = tf.keras.optimizers.Adam(),\n",
    "              loss = 'sparse_categorical_crossentropy',\n",
    "              metrics=['accuracy'])"
   ]
  },
  {
   "cell_type": "code",
   "execution_count": null,
   "id": "789a1864-6494-4e83-b789-dd3fd6063aca",
   "metadata": {},
   "outputs": [],
   "source": [
    "#The accuracy decreases because the model could assume 0 to hard inputs classification. Balanced data become classification harder\n",
    "vertical_model.fit(X_train_vertical, y_train_vertical, epochs=5)"
   ]
  },
  {
   "cell_type": "code",
   "execution_count": null,
   "id": "3e4650ea-9bac-4079-bd80-7ba896c5b3b9",
   "metadata": {},
   "outputs": [],
   "source": []
  },
  {
   "cell_type": "code",
   "execution_count": null,
   "id": "4c114bdf-46f1-4123-8673-987745ac1b9c",
   "metadata": {},
   "outputs": [],
   "source": [
    "vertical_model.save('Mafaulda_app/models/vertical_model.h5')"
   ]
  },
  {
   "cell_type": "markdown",
   "id": "abcfab60-dd1f-466c-9179-1af6e9be2372",
   "metadata": {
    "tags": []
   },
   "source": [
    "# Classify Overhang Health Bearing"
   ]
  },
  {
   "cell_type": "code",
   "execution_count": null,
   "id": "9e6e3714-16aa-45cb-9f0e-c18b143c83d6",
   "metadata": {},
   "outputs": [],
   "source": [
    "overhang_data_ball_0g_FFT = FFT(overhang_data[overhang_keys[0]])\n",
    "overhang_data_ball_6g_FFT = FFT(overhang_data[overhang_keys[1]])\n",
    "overhang_data_ball_20g_FFT = FFT(overhang_data[overhang_keys[2]])\n",
    "overhang_data_ball_35g_FFT = FFT(overhang_data[overhang_keys[3]])\n",
    "\n",
    "overhang_data_cage_0g_FFT = FFT(overhang_data[overhang_keys[4]])\n",
    "overhang_data_cage_6g_FFT = FFT(overhang_data[overhang_keys[5]])\n",
    "overhang_data_cage_20g_FFT = FFT(overhang_data[overhang_keys[6]])\n",
    "overhang_data_cage_35g_FFT = FFT(overhang_data[overhang_keys[7]])\n",
    "\n",
    "overhang_data_outerRace_0g_FFT = FFT(overhang_data[overhang_keys[8]])\n",
    "overhang_data_outerRace_6g_FFT = FFT(overhang_data[overhang_keys[9]])\n",
    "overhang_data_outerRace_20g_FFT = FFT(overhang_data[overhang_keys[10]])\n",
    "overhang_data_outerRace_35g_FFT = FFT(overhang_data[overhang_keys[11]])\n",
    "\n",
    "overhang_data_FFT = pd.concat([overhang_data_ball_0g_FFT, overhang_data_ball_6g_FFT, overhang_data_ball_20g_FFT, overhang_data_ball_35g_FFT, overhang_data_cage_0g_FFT, overhang_data_cage_6g_FFT, overhang_data_cage_20g_FFT, overhang_data_cage_35g_FFT, overhang_data_outerRace_0g_FFT, overhang_data_outerRace_6g_FFT, overhang_data_outerRace_20g_FFT, overhang_data_outerRace_35g_FFT], ignore_index=True)"
   ]
  },
  {
   "cell_type": "code",
   "execution_count": null,
   "id": "7224ffa3-76d5-4dda-b578-b2fd8302b174",
   "metadata": {},
   "outputs": [],
   "source": [
    "y_overhang_data_ball_0g = pd.DataFrame(np.zeros(len(overhang_data_ball_0g_FFT), dtype=int))\n",
    "y_overhang_data_ball_6g = pd.DataFrame(np.ones(len(overhang_data_ball_6g_FFT), dtype=int))\n",
    "y_overhang_data_ball_20g = pd.DataFrame(np.full(len(overhang_data_ball_20g_FFT), 2, dtype=int))\n",
    "y_overhang_data_ball_35g = pd.DataFrame(np.full(len(overhang_data_ball_35g_FFT), 3, dtype=int))\n",
    "y_overhang_data_cage_0g = pd.DataFrame(np.zeros(len(overhang_data_cage_0g_FFT), dtype=int))\n",
    "y_overhang_data_cage_6g = pd.DataFrame(np.ones(len(overhang_data_cage_6g_FFT), dtype=int)) \n",
    "y_overhang_data_cage_20g = pd.DataFrame(np.full(len(overhang_data_cage_20g_FFT), 2, dtype=int))\n",
    "y_overhang_data_cage_35g = pd.DataFrame(np.full(len(overhang_data_cage_35g_FFT), 3, dtype=int))\n",
    "y_overhang_data_outerRace_0g = pd.DataFrame(np.zeros(len(overhang_data_outerRace_0g_FFT), dtype=int))\n",
    "y_overhang_data_outerRace_6g = pd.DataFrame(np.ones(len(overhang_data_outerRace_6g_FFT), dtype=int))\n",
    "y_overhang_data_outerRace_20g = pd.DataFrame(np.full(len(overhang_data_outerRace_20g_FFT), 2, dtype=int))\n",
    "y_overhang_data_outerRace_35g = pd.DataFrame(np.full(len(overhang_data_outerRace_35g_FFT), 3, dtype=int))\n",
    "\n",
    "y_overhang = pd.concat([y_overhang_data_ball_0g, y_overhang_data_ball_6g, y_overhang_data_ball_20g, y_overhang_data_ball_35g, y_overhang_data_cage_0g, y_overhang_data_cage_6g, y_overhang_data_cage_20g, y_overhang_data_cage_35g, y_overhang_data_outerRace_0g, y_overhang_data_outerRace_6g, y_overhang_data_outerRace_20g, y_overhang_data_outerRace_35g], ignore_index=True)"
   ]
  },
  {
   "cell_type": "code",
   "execution_count": null,
   "id": "e083f433-a478-4a22-ba20-fe16e0a0e760",
   "metadata": {},
   "outputs": [],
   "source": [
    "# y_overhang #60088\n",
    "overhang_data_FFT"
   ]
  },
  {
   "cell_type": "code",
   "execution_count": null,
   "id": "89c0dda9-4500-472a-890c-b9bd2ff45a03",
   "metadata": {},
   "outputs": [],
   "source": [
    "X_train, X_test, y_train, y_test = train_test_split(overhang_data_FFT, y_overhang, test_size=0.25, shuffle=True)"
   ]
  },
  {
   "cell_type": "code",
   "execution_count": null,
   "id": "66109e04-de71-4dae-b0ad-f6db80e79e98",
   "metadata": {},
   "outputs": [],
   "source": []
  },
  {
   "cell_type": "code",
   "execution_count": null,
   "id": "89d8847c-dd26-4d68-8059-b3b9a9488384",
   "metadata": {},
   "outputs": [],
   "source": [
    "overhang_data_FFT"
   ]
  },
  {
   "cell_type": "code",
   "execution_count": null,
   "id": "894b4beb-8eeb-44cf-9856-2f57385c7ccf",
   "metadata": {},
   "outputs": [],
   "source": [
    "overhang_model = tf.keras.models.Sequential([\n",
    "    tf.keras.layers.Conv1D(64, 2, activation=\"relu\", input_shape=(15,1)),\n",
    "    tf.keras.layers.Flatten(), \n",
    "    tf.keras.layers.Dense(128, activation=tf.nn.relu), \n",
    "    tf.keras.layers.Dense(64, activation=tf.nn.relu),\n",
    "    tf.keras.layers.Dense(32, activation=tf.nn.relu),\n",
    "    tf.keras.layers.Dense(16, activation=tf.nn.relu),\n",
    "    tf.keras.layers.Dense(6, activation=tf.nn.softmax)])"
   ]
  },
  {
   "cell_type": "code",
   "execution_count": null,
   "id": "32eb2d3b-534f-4e14-9be6-63f69d8e8bf1",
   "metadata": {},
   "outputs": [],
   "source": [
    "overhang_model.compile(optimizer = tf.keras.optimizers.Adam(),\n",
    "              loss = 'sparse_categorical_crossentropy',\n",
    "              metrics=['accuracy'])"
   ]
  },
  {
   "cell_type": "code",
   "execution_count": null,
   "id": "52ec5752-d8ee-4a91-b54c-523b2cc6148d",
   "metadata": {},
   "outputs": [],
   "source": [
    "#The accuracy decreases because the model could assume 0 to hard inputs classification. Balanced data become classification harder\n",
    "overhang_model.fit(X_train, y_train, epochs=5)"
   ]
  },
  {
   "cell_type": "code",
   "execution_count": null,
   "id": "b34f4645-adf9-44db-8ce6-6d2501bc1856",
   "metadata": {},
   "outputs": [],
   "source": [
    "overhang_model.save('Mafaulda_app/models/overhang_model.h5')"
   ]
  },
  {
   "cell_type": "markdown",
   "id": "0f8ad440-acf4-4d6e-b79e-2d20f4ed593f",
   "metadata": {
    "tags": []
   },
   "source": [
    "# Classify Underhang Health Bearing"
   ]
  },
  {
   "cell_type": "code",
   "execution_count": null,
   "id": "bcde316e-c82b-4d2e-8158-56ebf840da15",
   "metadata": {},
   "outputs": [],
   "source": [
    "underhang_data_ball_0g_FFT = FFT(underhang_data[underhang_keys[0]])\n",
    "underhang_data_ball_6g_FFT = FFT(underhang_data[underhang_keys[1]])\n",
    "underhang_data_ball_20g_FFT = FFT(underhang_data[underhang_keys[2]])\n",
    "underhang_data_ball_35g_FFT = FFT(underhang_data[underhang_keys[3]])\n",
    "\n",
    "underhang_data_cage_0g_FFT = FFT(underhang_data[underhang_keys[4]])\n",
    "underhang_data_cage_6g_FFT = FFT(underhang_data[underhang_keys[5]])\n",
    "underhang_data_cage_20g_FFT = FFT(underhang_data[underhang_keys[6]])\n",
    "underhang_data_cage_35g_FFT = FFT(underhang_data[underhang_keys[7]])\n",
    "\n",
    "underhang_data_outerRace_0g_FFT = FFT(underhang_data[underhang_keys[8]])\n",
    "underhang_data_outerRace_6g_FFT = FFT(underhang_data[underhang_keys[9]])\n",
    "underhang_data_outerRace_20g_FFT = FFT(underhang_data[underhang_keys[10]])\n",
    "underhang_data_outerRace_35g_FFT = FFT(underhang_data[underhang_keys[11]])\n",
    "\n",
    "underhang_data_FFT = pd.concat([underhang_data_ball_0g_FFT, underhang_data_ball_6g_FFT, underhang_data_ball_20g_FFT, underhang_data_ball_35g_FFT, underhang_data_cage_0g_FFT, underhang_data_cage_6g_FFT, underhang_data_cage_20g_FFT, underhang_data_cage_35g_FFT, underhang_data_outerRace_0g_FFT, underhang_data_outerRace_6g_FFT, underhang_data_outerRace_20g_FFT, underhang_data_outerRace_35g_FFT], ignore_index=True)"
   ]
  },
  {
   "cell_type": "code",
   "execution_count": null,
   "id": "e6562c54-77c0-4090-9b36-95dc3ce02da2",
   "metadata": {},
   "outputs": [],
   "source": [
    "y_underhang_data_ball_0g = pd.DataFrame(np.zeros(len(underhang_data_ball_0g_FFT), dtype=int))\n",
    "y_underhang_data_ball_6g = pd.DataFrame(np.ones(len(underhang_data_ball_6g_FFT), dtype=int))\n",
    "y_underhang_data_ball_20g = pd.DataFrame(np.full(len(underhang_data_ball_20g_FFT), 2, dtype=int))\n",
    "y_underhang_data_ball_35g = pd.DataFrame(np.full(len(underhang_data_ball_35g_FFT), 3, dtype=int))\n",
    "y_underhang_data_cage_0g = pd.DataFrame(np.zeros(len(underhang_data_cage_0g_FFT), dtype=int))\n",
    "y_underhang_data_cage_6g = pd.DataFrame(np.ones(len(underhang_data_cage_6g_FFT), dtype=int)) \n",
    "y_underhang_data_cage_20g = pd.DataFrame(np.full(len(underhang_data_cage_20g_FFT), 2, dtype=int))\n",
    "y_underhang_data_cage_35g = pd.DataFrame(np.full(len(underhang_data_cage_35g_FFT), 3, dtype=int))\n",
    "y_underhang_data_outerRace_0g = pd.DataFrame(np.zeros(len(underhang_data_outerRace_0g_FFT), dtype=int))\n",
    "y_underhang_data_outerRace_6g = pd.DataFrame(np.ones(len(underhang_data_outerRace_6g_FFT), dtype=int))\n",
    "y_underhang_data_outerRace_20g = pd.DataFrame(np.full(len(underhang_data_outerRace_20g_FFT), 2, dtype=int))\n",
    "y_underhang_data_outerRace_35g = pd.DataFrame(np.full(len(underhang_data_outerRace_35g_FFT), 3, dtype=int))\n",
    "\n",
    "y_underhang = pd.concat([y_underhang_data_ball_0g, y_underhang_data_ball_6g, y_underhang_data_ball_20g, y_underhang_data_ball_35g, y_underhang_data_cage_0g, y_underhang_data_cage_6g, y_underhang_data_cage_20g, y_underhang_data_cage_35g, y_underhang_data_outerRace_0g, y_underhang_data_outerRace_6g, y_underhang_data_outerRace_20g, y_underhang_data_outerRace_35g], ignore_index=True)"
   ]
  },
  {
   "cell_type": "code",
   "execution_count": null,
   "id": "54a83067-6f79-4a8d-8439-43b9f3f846c9",
   "metadata": {},
   "outputs": [],
   "source": [
    "X_train, X_test, y_train, y_test = train_test_split(underhang_data_FFT, y_underhang, test_size=0.25, shuffle=True)"
   ]
  },
  {
   "cell_type": "code",
   "execution_count": null,
   "id": "6178ac79-b925-4ca9-b81c-192767028d9a",
   "metadata": {},
   "outputs": [],
   "source": [
    "underhang_model = tf.keras.models.Sequential([\n",
    "    tf.keras.layers.Conv1D(64, 2, activation=\"relu\", input_shape=(15,1)),\n",
    "    tf.keras.layers.Flatten(), \n",
    "    tf.keras.layers.Dense(128, activation=tf.nn.relu), \n",
    "    tf.keras.layers.Dense(64, activation=tf.nn.relu),\n",
    "    tf.keras.layers.Dense(32, activation=tf.nn.relu),\n",
    "    tf.keras.layers.Dense(16, activation=tf.nn.relu),\n",
    "    tf.keras.layers.Dense(6, activation=tf.nn.softmax)])"
   ]
  },
  {
   "cell_type": "code",
   "execution_count": null,
   "id": "776f814e-0293-498c-be89-940583697845",
   "metadata": {},
   "outputs": [],
   "source": [
    "underhang_model.compile(optimizer = tf.keras.optimizers.Adam(),\n",
    "              loss = 'sparse_categorical_crossentropy',\n",
    "              metrics=['accuracy'])"
   ]
  },
  {
   "cell_type": "code",
   "execution_count": null,
   "id": "8a5600b5-6626-4589-b78d-9afe100d0144",
   "metadata": {},
   "outputs": [],
   "source": [
    "#The accuracy decreases because the model could assume 0 to hard inputs classification. Balanced data become classification harder\n",
    "underhang_model.fit(X_train, y_train, epochs=5)"
   ]
  },
  {
   "cell_type": "code",
   "execution_count": null,
   "id": "49950549-874b-4b36-a163-250b38eeb073",
   "metadata": {},
   "outputs": [],
   "source": [
    "underhang_model.save('Mafaulda_app/models/underhang_model.h5')"
   ]
  },
  {
   "cell_type": "markdown",
   "id": "8880aa22-ef2e-4b22-9f37-8a88038a4d28",
   "metadata": {},
   "source": [
    "# Final Classfication"
   ]
  },
  {
   "cell_type": "code",
   "execution_count": null,
   "id": "ad2e5ed6-dbf6-46da-b4a8-49ec4f14232b",
   "metadata": {},
   "outputs": [],
   "source": [
    "#Vou ter que ver como tratar parcialmente os dados para jogar na classificação geral para depois afunilar e aplicar nos modelos dos tipos de erros\n",
    "\n",
    "def final_classification(x, y, index):\n",
    "    responses = {0:'normal', 1:['imbalance', imbalance_model], 2:['horizontal', horizontal_model], 3:['vertical', vertical_model], 4:['overhang', overhang_model], 5:['underhang', underhang_model]}\n",
    "    general_predict = fault_model.predict(x)\n",
    "    general_predict = responses[np.argmax(general_predict[index], axis=0)][0]\n",
    "    \n",
    "    if predict == 'normal':\n",
    "        print(\"Status predicted: \" + predict)\n",
    "    else:\n",
    "        print(\"General status predicted: \" + predict)\n",
    "        \n",
    "        "
   ]
  },
  {
   "cell_type": "code",
   "execution_count": null,
   "id": "22564370-492b-4e8e-ae26-d01d4507a6cf",
   "metadata": {},
   "outputs": [],
   "source": [
    "final_classification("
   ]
  },
  {
   "cell_type": "code",
   "execution_count": null,
   "id": "6c9cbbb6-a216-44bc-9515-9067d4d53a0a",
   "metadata": {},
   "outputs": [],
   "source": []
  },
  {
   "cell_type": "markdown",
   "id": "a628d5cf-c23f-440e-90af-0ce1927f5ba9",
   "metadata": {},
   "source": [
    "# Rolar tabela"
   ]
  },
  {
   "cell_type": "code",
   "execution_count": null,
   "id": "2779e607-ba7f-48be-9ed0-cae74228b08f",
   "metadata": {},
   "outputs": [],
   "source": [
    "def rolling_rows(data):\n",
    "    data = np.array(data)\n",
    "    roll_data = []\n",
    "    \n",
    "    for i in range(len(data)):\n",
    "        roll_data.append(data[i-200])\n",
    "\n",
    "    return pd.DataFrame(roll_data)"
   ]
  },
  {
   "cell_type": "code",
   "execution_count": null,
   "id": "e0276408-e0c4-428e-83d1-7a670d3191f9",
   "metadata": {},
   "outputs": [],
   "source": [
    "test_imbalance = imbalance_data[imbalance_keys[0]]\n",
    "test_imbalance"
   ]
  },
  {
   "cell_type": "code",
   "execution_count": null,
   "id": "e1a2c9bc-4bbf-4c36-9e42-d8ea86f3bce6",
   "metadata": {},
   "outputs": [],
   "source": [
    "result = rolling_rows(test_imbalance)\n",
    "result[200:250]"
   ]
  },
  {
   "cell_type": "code",
   "execution_count": null,
   "id": "0870f794-dda0-4952-9f9f-e2b2dbc9d5ea",
   "metadata": {},
   "outputs": [],
   "source": []
  },
  {
   "cell_type": "markdown",
   "id": "b5a136a6-c4a4-4c30-aeac-18a45b477b4e",
   "metadata": {},
   "source": [
    "# Application"
   ]
  },
  {
   "cell_type": "code",
   "execution_count": null,
   "id": "9e2fea40-f275-4646-b790-6507d8a55b07",
   "metadata": {},
   "outputs": [],
   "source": []
  },
  {
   "cell_type": "code",
   "execution_count": null,
   "id": "f96fb50c-a4f2-498e-ba0b-e9ae2e12f14b",
   "metadata": {},
   "outputs": [],
   "source": []
  },
  {
   "cell_type": "markdown",
   "id": "c19fcf41-583d-41ea-a25d-4af0b7dc1491",
   "metadata": {},
   "source": [
    "# REST"
   ]
  },
  {
   "cell_type": "code",
   "execution_count": null,
   "id": "692ee3f3-246e-4687-96f6-70a9dfb74948",
   "metadata": {},
   "outputs": [],
   "source": [
    "y_normal = pd.DataFrame(np.zeros(len(normal_reduced), dtype=int))\n",
    "\n",
    "y_imbalance6 = pd.DataFrame(np.ones(len(imbalance_data[imbalance_keys[0]]), dtype=int))\n",
    "y_imbalance10 = pd.DataFrame(np.full(len(imbalance_data[imbalance_keys[1]]), 2, dtype=int)) \n",
    "y_imbalance15 = pd.DataFrame(np.full(len(imbalance_data[imbalance_keys[2]]), 3, dtype=int)) \n",
    "y_imbalance20 = pd.DataFrame(np.full(len(imbalance_data[imbalance_keys[3]]), 4, dtype=int)) \n",
    "y_imbalance25 = pd.DataFrame(np.full(len(imbalance_data[imbalance_keys[4]]), 5, dtype=int)) \n",
    "y_imbalance30 = pd.DataFrame(np.full(len(imbalance_data[imbalance_keys[5]]), 6, dtype=int)) \n",
    "y_imbalance35 = pd.DataFrame(np.full(len(imbalance_data[imbalance_keys[6]]), 7, dtype=int))\n",
    "\n",
    "y_horizontal_data_0_5mm = pd.DataFrame(np.full(len(horizontal_data[horizontal_keys[0]]), 8, dtype=int)) \n",
    "y_horizontal_data_1_0mm = pd.DataFrame(np.full(len(horizontal_data[horizontal_keys[1]]), 9, dtype=int)) \n",
    "y_horizontal_data_1_5mm = pd.DataFrame(np.full(len(horizontal_data[horizontal_keys[2]]), 10, dtype=int)) \n",
    "y_horizontal_data_2_0mm = pd.DataFrame(np.full(len(horizontal_data[horizontal_keys[3]]), 11, dtype=int))\n",
    "\n",
    "y_vertical_data_0_51 = pd.DataFrame(np.full(len(vertical_data[vertical_keys[0]]), 12, dtype=int))\n",
    "y_vertical_data_0_63 = pd.DataFrame(np.full(len(vertical_data[vertical_keys[1]]), 13, dtype=int))\n",
    "y_vertical_data_1_27 = pd.DataFrame(np.full(len(vertical_data[vertical_keys[2]]), 14, dtype=int))\n",
    "y_vertical_data_1_40 = pd.DataFrame(np.full(len(vertical_data[vertical_keys[3]]), 15, dtype=int))\n",
    "y_vertical_data_1_78 = pd.DataFrame(np.full(len(vertical_data[vertical_keys[4]]), 16, dtype=int))\n",
    "y_vertical_data_1_90 = pd.DataFrame(np.full(len(vertical_data[vertical_keys[5]]), 17, dtype=int))\n",
    "\n",
    "y_total = pd.concat([y_normal, y_imbalance6, y_imbalance10, y_imbalance15, y_imbalance20, y_imbalance25, \n",
    "               y_imbalance30, y_imbalance35, y_horizontal_data_0_5mm, y_horizontal_data_1_0mm, y_horizontal_data_1_5mm,\n",
    "               y_horizontal_data_2_0mm, y_vertical_data_0_51 ,y_vertical_data_0_63, y_vertical_data_1_27, y_vertical_data_1_40, \n",
    "               y_vertical_data_1_78, y_vertical_data_1_90], \n",
    "              ignore_index=True)\n",
    "y_total"
   ]
  },
  {
   "cell_type": "code",
   "execution_count": null,
   "id": "12d186c1-683c-4a00-ad0b-19655cb8c795",
   "metadata": {},
   "outputs": [],
   "source": [
    "y_normal = pd.DataFrame(np.zeros(len(normal_reduced), dtype=int))\n",
    "\n",
    "y_imbalance6 = pd.DataFrame(np.ones(len(imbalance_data[imbalance_keys[0]]), dtype=int))\n",
    "y_imbalance10 = pd.DataFrame(np.ones(len(imbalance_data[imbalance_keys[1]]), dtype=int)) \n",
    "y_imbalance15 = pd.DataFrame(np.ones(len(imbalance_data[imbalance_keys[2]]), dtype=int)) \n",
    "y_imbalance20 = pd.DataFrame(np.ones(len(imbalance_data[imbalance_keys[3]]), dtype=int)) \n",
    "y_imbalance25 = pd.DataFrame(np.ones(len(imbalance_data[imbalance_keys[4]]), dtype=int)) \n",
    "y_imbalance30 = pd.DataFrame(np.ones(len(imbalance_data[imbalance_keys[5]]), dtype=int)) \n",
    "y_imbalance35 = pd.DataFrame(np.ones(len(imbalance_data[imbalance_keys[6]]), dtype=int))\n",
    "\n",
    "y_horizontal_data_0_5mm = pd.DataFrame(np.full(len(horizontal_data[horizontal_keys[0]]), 2, dtype=int)) \n",
    "y_horizontal_data_1_0mm = pd.DataFrame(np.full(len(horizontal_data[horizontal_keys[1]]), 2, dtype=int)) \n",
    "y_horizontal_data_1_5mm = pd.DataFrame(np.full(len(horizontal_data[horizontal_keys[2]]), 2, dtype=int)) \n",
    "y_horizontal_data_2_0mm = pd.DataFrame(np.full(len(horizontal_data[horizontal_keys[3]]), 2, dtype=int))\n",
    "\n",
    "y_vertical_data_0_51 = pd.DataFrame(np.full(len(vertical_data[vertical_keys[0]]), 3, dtype=int))\n",
    "y_vertical_data_0_63 = pd.DataFrame(np.full(len(vertical_data[vertical_keys[1]]), 3, dtype=int))\n",
    "y_vertical_data_1_27 = pd.DataFrame(np.full(len(vertical_data[vertical_keys[2]]), 3, dtype=int))\n",
    "y_vertical_data_1_40 = pd.DataFrame(np.full(len(vertical_data[vertical_keys[3]]), 3, dtype=int))\n",
    "y_vertical_data_1_78 = pd.DataFrame(np.full(len(vertical_data[vertical_keys[4]]), 3, dtype=int))\n",
    "y_vertical_data_1_90 = pd.DataFrame(np.full(len(vertical_data[vertical_keys[5]]), 3, dtype=int))\n",
    "\n",
    "y_total = pd.concat([y_normal, y_imbalance6, y_imbalance10, y_imbalance15, y_imbalance20, y_imbalance25, \n",
    "               y_imbalance30, y_imbalance35, y_horizontal_data_0_5mm, y_horizontal_data_1_0mm, y_horizontal_data_1_5mm,\n",
    "               y_horizontal_data_2_0mm, y_vertical_data_0_51 ,y_vertical_data_0_63, y_vertical_data_1_27, y_vertical_data_1_40, \n",
    "               y_vertical_data_1_78, y_vertical_data_1_90], \n",
    "              ignore_index=True)\n",
    "y_total"
   ]
  },
  {
   "cell_type": "code",
   "execution_count": null,
   "id": "8b06a256-6ab9-48a0-bd4c-6c6437c6fe9b",
   "metadata": {},
   "outputs": [],
   "source": [
    "total_data = pd.DataFrame(normal_data)\n",
    "\n",
    "print(\"Imbalance Data\")\n",
    "for i in range(len(imbalance_keys)):\n",
    "    itinerator = imbalance_data[imbalance_keys[i]]\n",
    "    print(itinerator.shape)\n",
    "    total_data = pd.concat([total_data, itinerator], ignore_index=True)\n",
    "print(\"------------------\")\n",
    "\n",
    "print(\"Horizontal Data\")\n",
    "for i in range(len(horizontal_keys)):\n",
    "    itinerator = horizontal_data[horizontal_keys[i]]\n",
    "    print(itinerator.shape)\n",
    "    total_data = pd.concat([total_data, itinerator], ignore_index=True)\n",
    "print(\"------------------\")\n",
    "\n",
    "print(\"Vertical Data\")\n",
    "for i in range(len(vertical_keys)):\n",
    "    itinerator = vertical_data[vertical_keys[i]]\n",
    "    print(itinerator.shape)\n",
    "    total_data = pd.concat([total_data, itinerator], ignore_index=True)\n",
    "print(\"------------------\")"
   ]
  },
  {
   "cell_type": "code",
   "execution_count": null,
   "id": "5ea3d386-e1f0-4bd6-aa3e-b761b0299203",
   "metadata": {},
   "outputs": [],
   "source": [
    "total_data"
   ]
  },
  {
   "cell_type": "code",
   "execution_count": null,
   "id": "e58a3b7f-5503-408f-b45b-a0ce3a615420",
   "metadata": {},
   "outputs": [],
   "source": [
    "X_train, X_test, y_train, y_test = train_test_split(total_data, y_total, test_size=0.25, shuffle=True)"
   ]
  },
  {
   "cell_type": "code",
   "execution_count": null,
   "id": "4e5614fc-0ea9-4ac9-be6a-cb9ca5cc3579",
   "metadata": {},
   "outputs": [],
   "source": [
    "model = tf.keras.models.Sequential([\n",
    "    tf.keras.layers.Flatten(), \n",
    "    tf.keras.layers.Dense(128, activation=tf.nn.relu), \n",
    "    tf.keras.layers.Dense(8, activation=tf.nn.softmax)])"
   ]
  },
  {
   "cell_type": "code",
   "execution_count": null,
   "id": "9ffddc8d-4787-4c98-9bed-8452d10453c0",
   "metadata": {},
   "outputs": [],
   "source": [
    "model.compile(optimizer = tf.keras.optimizers.Adam(),\n",
    "              loss = 'sparse_categorical_crossentropy',\n",
    "              metrics=['accuracy'])"
   ]
  },
  {
   "cell_type": "code",
   "execution_count": null,
   "id": "641a828f-f26a-4d2a-b03a-87b4a70e4944",
   "metadata": {},
   "outputs": [],
   "source": [
    "#The accuracy decreases because the model could assume 0 to hard inputs classification. Balanced data become classification harder\n",
    "model.fit(X_train, y_train, epochs=5)"
   ]
  },
  {
   "cell_type": "code",
   "execution_count": null,
   "id": "dbc01b74-36f7-47d8-ab66-58fb3090b0b1",
   "metadata": {},
   "outputs": [],
   "source": []
  },
  {
   "cell_type": "code",
   "execution_count": null,
   "id": "e3ff2f04-6e76-4748-b19b-67c33ffb9d31",
   "metadata": {},
   "outputs": [],
   "source": []
  },
  {
   "cell_type": "code",
   "execution_count": null,
   "id": "9eb5e3e8-470d-4a8f-83a1-c5fa7f1b67eb",
   "metadata": {},
   "outputs": [],
   "source": []
  },
  {
   "cell_type": "code",
   "execution_count": null,
   "id": "0042e70e-9497-4fb3-bb26-b286a3fa1863",
   "metadata": {},
   "outputs": [],
   "source": [
    "zibs_model = load_model(\"Mafaulda_app/models/fault_model.h5\")\n"
   ]
  },
  {
   "cell_type": "code",
   "execution_count": null,
   "id": "46e43213-731b-406e-b606-2348471d8d90",
   "metadata": {},
   "outputs": [],
   "source": [
    "zibs_model.predict(X_test[0:1])"
   ]
  },
  {
   "cell_type": "code",
   "execution_count": null,
   "id": "dbae078f-9fc9-4ec9-9b36-8875fec86a84",
   "metadata": {},
   "outputs": [],
   "source": [
    "value = np.array(X_test[0:1])"
   ]
  },
  {
   "cell_type": "code",
   "execution_count": null,
   "id": "f76c3fd8-309e-4179-bc2e-9c8a60d5d4f2",
   "metadata": {},
   "outputs": [],
   "source": [
    "value"
   ]
  },
  {
   "cell_type": "code",
   "execution_count": null,
   "id": "d75bb9d9-c5b6-44f2-8ca7-39a4a6a3c178",
   "metadata": {},
   "outputs": [],
   "source": [
    "zibs = [0.35107426,  0.1212187 , -0.35445322, -0.10401338,  0.42226383,\n",
    "         0.37491483, -1.74464073, -0.69076039, -4.35886673, -3.80692319,\n",
    "        -0.33017811,  0.62848284,  0.65316731,  0.21307042,  0.21397822]"
   ]
  },
  {
   "cell_type": "code",
   "execution_count": null,
   "id": "9e3e4180-ffb9-46ce-8d67-dd40e8bfe5e0",
   "metadata": {},
   "outputs": [],
   "source": [
    "zibs"
   ]
  },
  {
   "cell_type": "code",
   "execution_count": null,
   "id": "aa87509e-06c0-4f59-a31e-fe8ccd36bc21",
   "metadata": {},
   "outputs": [],
   "source": []
  }
 ],
 "metadata": {
  "kernelspec": {
   "display_name": "Python 3 (ipykernel)",
   "language": "python",
   "name": "python3"
  },
  "language_info": {
   "codemirror_mode": {
    "name": "ipython",
    "version": 3
   },
   "file_extension": ".py",
   "mimetype": "text/x-python",
   "name": "python",
   "nbconvert_exporter": "python",
   "pygments_lexer": "ipython3",
   "version": "3.8.10"
  }
 },
 "nbformat": 4,
 "nbformat_minor": 5
}
